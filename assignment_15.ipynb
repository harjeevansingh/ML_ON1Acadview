{
  "nbformat": 4,
  "nbformat_minor": 0,
  "metadata": {
    "colab": {
      "name": "assignment_15.ipynb",
      "version": "0.3.2",
      "provenance": [],
      "include_colab_link": true
    },
    "kernelspec": {
      "name": "python3",
      "display_name": "Python 3"
    }
  },
  "cells": [
    {
      "cell_type": "markdown",
      "metadata": {
        "id": "view-in-github",
        "colab_type": "text"
      },
      "source": [
        "[View in Colaboratory](https://colab.research.google.com/github/harjeevansingh/ML_ON1Acadview/blob/master/assignment_15.ipynb)"
      ]
    },
    {
      "metadata": {
        "id": "fZ6Q1WvOdYE8",
        "colab_type": "code",
        "colab": {}
      },
      "cell_type": "code",
      "source": [
        "import pandas as pd\n",
        "from sklearn.datasets import load_digits\n",
        "from sklearn.model_selection import train_test_split\n",
        "\n",
        "df=load_digits()"
      ],
      "execution_count": 0,
      "outputs": []
    },
    {
      "metadata": {
        "id": "x-K7WryNf4WG",
        "colab_type": "code",
        "colab": {}
      },
      "cell_type": "code",
      "source": [
        "x=df.data\n",
        "y=df.target"
      ],
      "execution_count": 0,
      "outputs": []
    },
    {
      "metadata": {
        "id": "u9tCWLdslowi",
        "colab_type": "code",
        "colab": {}
      },
      "cell_type": "code",
      "source": [
        "(x_train,x_test,y_train,y_test)=train_test_split(x,y,test_size=0.3,random_state=4)"
      ],
      "execution_count": 0,
      "outputs": []
    },
    {
      "metadata": {
        "id": "6hf1mmECoxtW",
        "colab_type": "text"
      },
      "cell_type": "markdown",
      "source": [
        "## Linear Kernel"
      ]
    },
    {
      "metadata": {
        "id": "um_qvdpnm1Hd",
        "colab_type": "code",
        "colab": {
          "base_uri": "https://localhost:8080/",
          "height": 91
        },
        "outputId": "7ac2ffbb-9236-441d-a3cf-51e69f6823f5"
      },
      "cell_type": "code",
      "source": [
        "from sklearn.svm import SVC\n",
        "model = SVC(kernel='linear')\n",
        "model.fit(x_train,y_train)"
      ],
      "execution_count": 11,
      "outputs": [
        {
          "output_type": "execute_result",
          "data": {
            "text/plain": [
              "SVC(C=1.0, cache_size=200, class_weight=None, coef0=0.0,\n",
              "  decision_function_shape='ovr', degree=3, gamma='auto', kernel='linear',\n",
              "  max_iter=-1, probability=False, random_state=None, shrinking=True,\n",
              "  tol=0.001, verbose=False)"
            ]
          },
          "metadata": {
            "tags": []
          },
          "execution_count": 11
        }
      ]
    },
    {
      "metadata": {
        "id": "9TrJCIiCo1la",
        "colab_type": "code",
        "colab": {
          "base_uri": "https://localhost:8080/",
          "height": 481
        },
        "outputId": "c1e2c81b-21b7-45a3-8479-4995a1d7aa1d"
      },
      "cell_type": "code",
      "source": [
        "y_pred=model.predict(x_test)\n",
        "from sklearn.metrics import confusion_matrix, classification_report\n",
        "print(confusion_matrix(y_test,y_pred))\n",
        "print(classification_report(y_test,y_pred))"
      ],
      "execution_count": 13,
      "outputs": [
        {
          "output_type": "stream",
          "text": [
            "[[53  0  0  0  0  0  0  0  0  0]\n",
            " [ 0 50  0  0  0  0  0  0  1  0]\n",
            " [ 0  0 54  0  0  0  0  0  0  0]\n",
            " [ 0  0  0 54  0  1  0  0  0  0]\n",
            " [ 0  1  0  0 53  0  0  0  0  0]\n",
            " [ 0  0  0  0  0 57  0  0  0  1]\n",
            " [ 0  0  0  0  0  0 51  0  1  0]\n",
            " [ 0  0  0  0  0  0  0 54  1  0]\n",
            " [ 0  4  0  0  0  0  0  0 51  0]\n",
            " [ 0  0  0  0  0  0  0  0  1 52]]\n",
            "             precision    recall  f1-score   support\n",
            "\n",
            "          0       1.00      1.00      1.00        53\n",
            "          1       0.91      0.98      0.94        51\n",
            "          2       1.00      1.00      1.00        54\n",
            "          3       1.00      0.98      0.99        55\n",
            "          4       1.00      0.98      0.99        54\n",
            "          5       0.98      0.98      0.98        58\n",
            "          6       1.00      0.98      0.99        52\n",
            "          7       1.00      0.98      0.99        55\n",
            "          8       0.93      0.93      0.93        55\n",
            "          9       0.98      0.98      0.98        53\n",
            "\n",
            "avg / total       0.98      0.98      0.98       540\n",
            "\n"
          ],
          "name": "stdout"
        }
      ]
    },
    {
      "metadata": {
        "id": "1e-jv4uephP3",
        "colab_type": "text"
      },
      "cell_type": "markdown",
      "source": [
        "# Poly"
      ]
    },
    {
      "metadata": {
        "id": "v0o_ew2cpi_3",
        "colab_type": "code",
        "colab": {
          "base_uri": "https://localhost:8080/",
          "height": 91
        },
        "outputId": "0fb002b1-84b7-4bcf-e07e-6297478d9d12"
      },
      "cell_type": "code",
      "source": [
        "from sklearn.svm import SVC\n",
        "model = SVC(kernel='poly',degree=6)\n",
        "model.fit(x_train,y_train)"
      ],
      "execution_count": 14,
      "outputs": [
        {
          "output_type": "execute_result",
          "data": {
            "text/plain": [
              "SVC(C=1.0, cache_size=200, class_weight=None, coef0=0.0,\n",
              "  decision_function_shape='ovr', degree=6, gamma='auto', kernel='poly',\n",
              "  max_iter=-1, probability=False, random_state=None, shrinking=True,\n",
              "  tol=0.001, verbose=False)"
            ]
          },
          "metadata": {
            "tags": []
          },
          "execution_count": 14
        }
      ]
    },
    {
      "metadata": {
        "id": "O2RHqvIUpxSK",
        "colab_type": "code",
        "colab": {
          "base_uri": "https://localhost:8080/",
          "height": 481
        },
        "outputId": "13991f1d-3382-49ab-9419-8a8aae706cd7"
      },
      "cell_type": "code",
      "source": [
        "y_pred=model.predict(x_test)\n",
        "from sklearn.metrics import confusion_matrix, classification_report\n",
        "print(confusion_matrix(y_test,y_pred))\n",
        "print(classification_report(y_test,y_pred))"
      ],
      "execution_count": 15,
      "outputs": [
        {
          "output_type": "stream",
          "text": [
            "[[53  0  0  0  0  0  0  0  0  0]\n",
            " [ 0 50  0  0  0  0  0  0  1  0]\n",
            " [ 0  0 54  0  0  0  0  0  0  0]\n",
            " [ 0  0  0 54  0  1  0  0  0  0]\n",
            " [ 0  0  0  0 54  0  0  0  0  0]\n",
            " [ 0  0  0  0  0 57  0  0  0  1]\n",
            " [ 0  0  0  0  0  0 51  0  1  0]\n",
            " [ 0  0  0  0  0  0  0 55  0  0]\n",
            " [ 0  0  0  1  0  0  0  0 54  0]\n",
            " [ 0  0  0  1  0  0  0  0  0 52]]\n",
            "             precision    recall  f1-score   support\n",
            "\n",
            "          0       1.00      1.00      1.00        53\n",
            "          1       1.00      0.98      0.99        51\n",
            "          2       1.00      1.00      1.00        54\n",
            "          3       0.96      0.98      0.97        55\n",
            "          4       1.00      1.00      1.00        54\n",
            "          5       0.98      0.98      0.98        58\n",
            "          6       1.00      0.98      0.99        52\n",
            "          7       1.00      1.00      1.00        55\n",
            "          8       0.96      0.98      0.97        55\n",
            "          9       0.98      0.98      0.98        53\n",
            "\n",
            "avg / total       0.99      0.99      0.99       540\n",
            "\n"
          ],
          "name": "stdout"
        }
      ]
    },
    {
      "metadata": {
        "id": "MtIyHBKVpzTH",
        "colab_type": "text"
      },
      "cell_type": "markdown",
      "source": [
        "# Gaussian"
      ]
    },
    {
      "metadata": {
        "id": "zWTxC6zQp2nv",
        "colab_type": "code",
        "colab": {
          "base_uri": "https://localhost:8080/",
          "height": 91
        },
        "outputId": "d1bca4f3-0058-4fab-8571-4f0eb1fb9a7a"
      },
      "cell_type": "code",
      "source": [
        "from sklearn.svm import SVC\n",
        "model = SVC(kernel='rbf')\n",
        "model.fit(x_train,y_train)"
      ],
      "execution_count": 16,
      "outputs": [
        {
          "output_type": "execute_result",
          "data": {
            "text/plain": [
              "SVC(C=1.0, cache_size=200, class_weight=None, coef0=0.0,\n",
              "  decision_function_shape='ovr', degree=3, gamma='auto', kernel='rbf',\n",
              "  max_iter=-1, probability=False, random_state=None, shrinking=True,\n",
              "  tol=0.001, verbose=False)"
            ]
          },
          "metadata": {
            "tags": []
          },
          "execution_count": 16
        }
      ]
    },
    {
      "metadata": {
        "id": "eg2iPlewp_q_",
        "colab_type": "code",
        "colab": {
          "base_uri": "https://localhost:8080/",
          "height": 481
        },
        "outputId": "8e0519c7-0820-48f0-eb9a-049d163d5be5"
      },
      "cell_type": "code",
      "source": [
        "y_pred=model.predict(x_test)\n",
        "from sklearn.metrics import confusion_matrix, classification_report\n",
        "print(confusion_matrix(y_test,y_pred))\n",
        "print(classification_report(y_test,y_pred))"
      ],
      "execution_count": 17,
      "outputs": [
        {
          "output_type": "stream",
          "text": [
            "[[21  0  0 32  0  0  0  0  0  0]\n",
            " [ 0 36  0 15  0  0  0  0  0  0]\n",
            " [ 0  0 24 30  0  0  0  0  0  0]\n",
            " [ 0  0  0 55  0  0  0  0  0  0]\n",
            " [ 0  0  0 19 35  0  0  0  0  0]\n",
            " [ 0  0  0 28  0 30  0  0  0  0]\n",
            " [ 0  0  0 16  0  0 36  0  0  0]\n",
            " [ 0  0  0 29  0  0  0 26  0  0]\n",
            " [ 0  0  0 49  0  0  0  0  6  0]\n",
            " [ 0  0  0  8  0  0  0  0  0 45]]\n",
            "             precision    recall  f1-score   support\n",
            "\n",
            "          0       1.00      0.40      0.57        53\n",
            "          1       1.00      0.71      0.83        51\n",
            "          2       1.00      0.44      0.62        54\n",
            "          3       0.20      1.00      0.33        55\n",
            "          4       1.00      0.65      0.79        54\n",
            "          5       1.00      0.52      0.68        58\n",
            "          6       1.00      0.69      0.82        52\n",
            "          7       1.00      0.47      0.64        55\n",
            "          8       1.00      0.11      0.20        55\n",
            "          9       1.00      0.85      0.92        53\n",
            "\n",
            "avg / total       0.92      0.58      0.63       540\n",
            "\n"
          ],
          "name": "stdout"
        }
      ]
    },
    {
      "metadata": {
        "id": "JZArI2uHqB2i",
        "colab_type": "text"
      },
      "cell_type": "markdown",
      "source": [
        "# Sigmoid"
      ]
    },
    {
      "metadata": {
        "id": "rEfk0T_cqJYh",
        "colab_type": "code",
        "colab": {
          "base_uri": "https://localhost:8080/",
          "height": 91
        },
        "outputId": "5a9534b8-1f98-4810-8c4d-5dda3928c162"
      },
      "cell_type": "code",
      "source": [
        "from sklearn.svm import SVC\n",
        "model = SVC(kernel='sigmoid')\n",
        "model.fit(x_train,y_train)"
      ],
      "execution_count": 18,
      "outputs": [
        {
          "output_type": "execute_result",
          "data": {
            "text/plain": [
              "SVC(C=1.0, cache_size=200, class_weight=None, coef0=0.0,\n",
              "  decision_function_shape='ovr', degree=3, gamma='auto', kernel='sigmoid',\n",
              "  max_iter=-1, probability=False, random_state=None, shrinking=True,\n",
              "  tol=0.001, verbose=False)"
            ]
          },
          "metadata": {
            "tags": []
          },
          "execution_count": 18
        }
      ]
    },
    {
      "metadata": {
        "id": "Me5Jv7riqHfS",
        "colab_type": "code",
        "colab": {
          "base_uri": "https://localhost:8080/",
          "height": 538
        },
        "outputId": "21803c1e-bf25-46b8-c8a4-c671c1388734"
      },
      "cell_type": "code",
      "source": [
        "y_pred=model.predict(x_test)\n",
        "from sklearn.metrics import confusion_matrix, classification_report\n",
        "print(confusion_matrix(y_test,y_pred))\n",
        "print(classification_report(y_test,y_pred))"
      ],
      "execution_count": 19,
      "outputs": [
        {
          "output_type": "stream",
          "text": [
            "[[ 0 53  0  0  0  0  0  0  0  0]\n",
            " [ 0 51  0  0  0  0  0  0  0  0]\n",
            " [ 0 54  0  0  0  0  0  0  0  0]\n",
            " [ 0 55  0  0  0  0  0  0  0  0]\n",
            " [ 0 54  0  0  0  0  0  0  0  0]\n",
            " [ 0 58  0  0  0  0  0  0  0  0]\n",
            " [ 0 52  0  0  0  0  0  0  0  0]\n",
            " [ 0 55  0  0  0  0  0  0  0  0]\n",
            " [ 0 55  0  0  0  0  0  0  0  0]\n",
            " [ 0 53  0  0  0  0  0  0  0  0]]\n",
            "             precision    recall  f1-score   support\n",
            "\n",
            "          0       0.00      0.00      0.00        53\n",
            "          1       0.09      1.00      0.17        51\n",
            "          2       0.00      0.00      0.00        54\n",
            "          3       0.00      0.00      0.00        55\n",
            "          4       0.00      0.00      0.00        54\n",
            "          5       0.00      0.00      0.00        58\n",
            "          6       0.00      0.00      0.00        52\n",
            "          7       0.00      0.00      0.00        55\n",
            "          8       0.00      0.00      0.00        55\n",
            "          9       0.00      0.00      0.00        53\n",
            "\n",
            "avg / total       0.01      0.09      0.02       540\n",
            "\n"
          ],
          "name": "stdout"
        },
        {
          "output_type": "stream",
          "text": [
            "/usr/local/lib/python3.6/dist-packages/sklearn/metrics/classification.py:1135: UndefinedMetricWarning: Precision and F-score are ill-defined and being set to 0.0 in labels with no predicted samples.\n",
            "  'precision', 'predicted', average, warn_for)\n"
          ],
          "name": "stderr"
        }
      ]
    }
  ]
}
{
  "nbformat": 4,
  "nbformat_minor": 0,
  "metadata": {
    "colab": {
      "name": "assignment_14.ipynb",
      "version": "0.3.2",
      "provenance": [],
      "include_colab_link": true
    },
    "kernelspec": {
      "name": "python3",
      "display_name": "Python 3"
    }
  },
  "cells": [
    {
      "cell_type": "markdown",
      "metadata": {
        "id": "view-in-github",
        "colab_type": "text"
      },
      "source": [
        "[View in Colaboratory](https://colab.research.google.com/github/harjeevansingh/ML_ON1Acadview/blob/master/assignment_14.ipynb)"
      ]
    },
    {
      "metadata": {
        "id": "7MJXUzTHr3Yk",
        "colab_type": "text"
      },
      "cell_type": "markdown",
      "source": [
        "# Question 1\n",
        "\n",
        "1.  p(yes|sunny)=p(sunny|yes)*p(yes)/p(sunny)\n",
        "2.  p(yes|sunny)=3/5\n",
        "3.  p=3/5\n"
      ]
    },
    {
      "metadata": {
        "id": "H3wOQwI1r7oO",
        "colab_type": "text"
      },
      "cell_type": "markdown",
      "source": [
        "# Question 2"
      ]
    },
    {
      "metadata": {
        "id": "uyDtDo3-cZs9",
        "colab_type": "code",
        "colab": {}
      },
      "cell_type": "code",
      "source": [
        "from sklearn import datasets\n",
        "from sklearn.model_selection import train_test_split\n",
        "from sklearn.naive_bayes import GaussianNB\n",
        "iris = datasets.load_iris()\n",
        "x=iris.data\n",
        "y=iris.target"
      ],
      "execution_count": 0,
      "outputs": []
    },
    {
      "metadata": {
        "id": "e19D-OxHdIJJ",
        "colab_type": "code",
        "colab": {
          "base_uri": "https://localhost:8080/",
          "height": 36
        },
        "outputId": "030c6873-a5c9-4804-d93b-b0249c4f5e56"
      },
      "cell_type": "code",
      "source": [
        "(x_train,x_test,y_train,y_test)=train_test_split(x,y,test_size=0.3,random_state=4)\n",
        "guass=GaussianNB()\n",
        "guass.fit(x_test,y_test)"
      ],
      "execution_count": 16,
      "outputs": [
        {
          "output_type": "execute_result",
          "data": {
            "text/plain": [
              "GaussianNB(priors=None)"
            ]
          },
          "metadata": {
            "tags": []
          },
          "execution_count": 16
        }
      ]
    },
    {
      "metadata": {
        "id": "moqrGRX-f4bv",
        "colab_type": "code",
        "colab": {
          "base_uri": "https://localhost:8080/",
          "height": 36
        },
        "outputId": "f8c10d78-0a59-447e-ad92-d0f16eee9333"
      },
      "cell_type": "code",
      "source": [
        "guass.score(x_test,y_test)"
      ],
      "execution_count": 17,
      "outputs": [
        {
          "output_type": "execute_result",
          "data": {
            "text/plain": [
              "0.9777777777777777"
            ]
          },
          "metadata": {
            "tags": []
          },
          "execution_count": 17
        }
      ]
    },
    {
      "metadata": {
        "id": "yBac4MwOjSJV",
        "colab_type": "text"
      },
      "cell_type": "markdown",
      "source": [
        "# GuassianNB\n",
        "## Confusion **Matrix**"
      ]
    },
    {
      "metadata": {
        "id": "BE1AMDUrh_tX",
        "colab_type": "code",
        "colab": {}
      },
      "cell_type": "code",
      "source": [
        "from sklearn.metrics import confusion_matrix, classification_report\n"
      ],
      "execution_count": 0,
      "outputs": []
    },
    {
      "metadata": {
        "id": "xIKH68lfgbl9",
        "colab_type": "code",
        "colab": {
          "base_uri": "https://localhost:8080/",
          "height": 73
        },
        "outputId": "9522fc40-89ca-4b9d-f050-d139adee3916"
      },
      "cell_type": "code",
      "source": [
        "predicted=guass.predict(x_test)\n",
        "matrix=confusion_matrix(y_test, predicted)\n",
        "print(matrix)"
      ],
      "execution_count": 29,
      "outputs": [
        {
          "output_type": "stream",
          "text": [
            "[[21  0  0]\n",
            " [ 0 10  0]\n",
            " [ 0  1 13]]\n"
          ],
          "name": "stdout"
        }
      ]
    },
    {
      "metadata": {
        "id": "rZwFKf2FjY7Z",
        "colab_type": "text"
      },
      "cell_type": "markdown",
      "source": [
        "## Classification Report"
      ]
    },
    {
      "metadata": {
        "id": "S7Cno2NIieUk",
        "colab_type": "code",
        "colab": {
          "base_uri": "https://localhost:8080/",
          "height": 166
        },
        "outputId": "b832e04d-d6f7-4736-bcc0-07cbf283f58c"
      },
      "cell_type": "code",
      "source": [
        "report=classification_report(y_test,predicted)\n",
        "print(report)"
      ],
      "execution_count": 31,
      "outputs": [
        {
          "output_type": "stream",
          "text": [
            "             precision    recall  f1-score   support\n",
            "\n",
            "          0       1.00      1.00      1.00        21\n",
            "          1       0.91      1.00      0.95        10\n",
            "          2       1.00      0.93      0.96        14\n",
            "\n",
            "avg / total       0.98      0.98      0.98        45\n",
            "\n"
          ],
          "name": "stdout"
        }
      ]
    },
    {
      "metadata": {
        "id": "k6j26bMikQoT",
        "colab_type": "code",
        "colab": {
          "base_uri": "https://localhost:8080/",
          "height": 277
        },
        "outputId": "50dde2d0-d0c5-4107-e28a-1884fc1d6e14"
      },
      "cell_type": "code",
      "source": [
        "!pip install yellowbrick"
      ],
      "execution_count": 33,
      "outputs": [
        {
          "output_type": "stream",
          "text": [
            "Collecting yellowbrick\n",
            "\u001b[?25l  Downloading https://files.pythonhosted.org/packages/16/c7/e78d507a55cdde7e05050b59a073f5bf8f927240375f6aa870c591fcf707/yellowbrick-0.7-py2.py3-none-any.whl (218kB)\n",
            "\u001b[K    100% |████████████████████████████████| 225kB 6.9MB/s \n",
            "\u001b[?25hRequirement already satisfied: cycler>=0.10.0 in /usr/local/lib/python3.6/dist-packages (from yellowbrick) (0.10.0)\n",
            "Requirement already satisfied: matplotlib>=1.5.1 in /usr/local/lib/python3.6/dist-packages (from yellowbrick) (2.1.2)\n",
            "Requirement already satisfied: numpy>=1.13.0 in /usr/local/lib/python3.6/dist-packages (from yellowbrick) (1.14.5)\n",
            "Requirement already satisfied: scipy>=0.19 in /usr/local/lib/python3.6/dist-packages (from yellowbrick) (0.19.1)\n",
            "Requirement already satisfied: scikit-learn>=0.19 in /usr/local/lib/python3.6/dist-packages (from yellowbrick) (0.19.1)\n",
            "Requirement already satisfied: six in /usr/local/lib/python3.6/dist-packages (from cycler>=0.10.0->yellowbrick) (1.11.0)\n",
            "Requirement already satisfied: python-dateutil>=2.1 in /usr/local/lib/python3.6/dist-packages (from matplotlib>=1.5.1->yellowbrick) (2.5.3)\n",
            "Requirement already satisfied: pytz in /usr/local/lib/python3.6/dist-packages (from matplotlib>=1.5.1->yellowbrick) (2018.4)\n",
            "Requirement already satisfied: pyparsing!=2.0.4,!=2.1.2,!=2.1.6,>=2.0.1 in /usr/local/lib/python3.6/dist-packages (from matplotlib>=1.5.1->yellowbrick) (2.2.0)\n",
            "Installing collected packages: yellowbrick\n",
            "Successfully installed yellowbrick-0.7\n"
          ],
          "name": "stdout"
        }
      ]
    },
    {
      "metadata": {
        "id": "sVkkPA5zkMR0",
        "colab_type": "code",
        "colab": {}
      },
      "cell_type": "code",
      "source": [
        "from yellowbrick.classifier import ClassificationReport"
      ],
      "execution_count": 0,
      "outputs": []
    },
    {
      "metadata": {
        "id": "SO54XgwKkYdL",
        "colab_type": "code",
        "colab": {
          "base_uri": "https://localhost:8080/",
          "height": 401
        },
        "outputId": "9fcd069f-e7e0-462e-b378-62dee009e22e"
      },
      "cell_type": "code",
      "source": [
        "visualizer = ClassificationReport(guass)\n",
        "visualizer.fit(x_train, y_train)  # Fit the visualizer and the model\n",
        "visualizer.score(x_test, y_test)  # Evaluate the model on the test data\n",
        "g = visualizer.poof()             # Draw/show/poof the data"
      ],
      "execution_count": 38,
      "outputs": [
        {
          "output_type": "display_data",
          "data": {
            "image/png": "[encoded data removed]",
            "text/plain": [
              "<matplotlib.figure.Figure at 0x7f7f86d22748>"
            ]
          },
          "metadata": {
            "tags": []
          }
        }
      ]
    },
    {
      "metadata": {
        "id": "FkhVFRVSqJa0",
        "colab_type": "text"
      },
      "cell_type": "markdown",
      "source": [
        "#MultinomialNB\n",
        "## Confusion Matrix"
      ]
    },
    {
      "metadata": {
        "id": "EYB2zILqqSa6",
        "colab_type": "code",
        "colab": {}
      },
      "cell_type": "code",
      "source": [
        "from sklearn.naive_bayes import MultinomialNB"
      ],
      "execution_count": 0,
      "outputs": []
    },
    {
      "metadata": {
        "id": "ZhnlTDofqlA0",
        "colab_type": "code",
        "colab": {
          "base_uri": "https://localhost:8080/",
          "height": 73
        },
        "outputId": "bb775e88-d8a5-410e-8889-369a940bd9da"
      },
      "cell_type": "code",
      "source": [
        "predicted=multi.predict(x_test)\n",
        "matrix=confusion_matrix(y_test, predicted)\n",
        "print(matrix)"
      ],
      "execution_count": 42,
      "outputs": [
        {
          "output_type": "stream",
          "text": [
            "[[21  0  0]\n",
            " [ 0 10  0]\n",
            " [ 0  6  8]]\n"
          ],
          "name": "stdout"
        }
      ]
    },
    {
      "metadata": {
        "id": "wZKF-userAr2",
        "colab_type": "text"
      },
      "cell_type": "markdown",
      "source": [
        "## Classification Report"
      ]
    },
    {
      "metadata": {
        "id": "N-5YxKthrFGc",
        "colab_type": "code",
        "colab": {
          "base_uri": "https://localhost:8080/",
          "height": 166
        },
        "outputId": "7b09244d-71fb-41cf-a848-8df62aa148d3"
      },
      "cell_type": "code",
      "source": [
        "report=classification_report(y_test,predicted)\n",
        "print(report)"
      ],
      "execution_count": 43,
      "outputs": [
        {
          "output_type": "stream",
          "text": [
            "             precision    recall  f1-score   support\n",
            "\n",
            "          0       1.00      1.00      1.00        21\n",
            "          1       0.62      1.00      0.77        10\n",
            "          2       1.00      0.57      0.73        14\n",
            "\n",
            "avg / total       0.92      0.87      0.86        45\n",
            "\n"
          ],
          "name": "stdout"
        }
      ]
    }
  ]
}
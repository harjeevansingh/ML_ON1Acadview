{
  "nbformat": 4,
  "nbformat_minor": 0,
  "metadata": {
    "colab": {
      "name": "assignment_3.ipynb",
      "version": "0.3.2",
      "provenance": []
    },
    "kernelspec": {
      "name": "python3",
      "display_name": "Python 3"
    }
  },
  "cells": [
    {
      "cell_type": "markdown",
      "metadata": {
        "id": "view-in-github",
        "colab_type": "text"
      },
      "source": [
        "[View in Colaboratory](https://colab.research.google.com/github/harjeevansingh/ML_ON1Acadview/blob/master/assignment_3.ipynb)"
      ]
    },
    {
      "metadata": {
        "id": "rtgnS5r-agD9",
        "colab_type": "code",
        "colab": {
          "base_uri": "https://localhost:8080/",
          "height": 36
        },
        "outputId": "411d59d6-3844-45e0-c6b5-46a9c4252cf5"
      },
      "cell_type": "code",
      "source": [
        "#### Question 1 ####\n",
        "\n",
        "'''A|B)=P(A∩B)/P(B)\n",
        "=>P(A∩B)=P(A|B)*P(B)\n",
        "\n",
        "\n",
        "P(A)=11/36\n",
        "P(B)=6/36\n",
        "P(A|B)=2/36\n",
        "\n",
        "P(B|A) = P(A∩B)/P(A)\n",
        "hence, P(B|A)=P(A|B)*P(B)/P(A)'''\n",
        "\n",
        "P_A = 11/36\n",
        "P_B= 6/36\n",
        "P_AB= 2/36\n",
        "\n",
        "def prob(a,b,c):\n",
        "\n",
        "  P_BA= c*b/a\n",
        "  print(P_BA)\n",
        "                \n",
        "prob(P_A,P_B,P_AB)"
      ],
      "execution_count": 13,
      "outputs": [
        {
          "output_type": "stream",
          "text": [
            "0.0303030303030303\n"
          ],
          "name": "stdout"
        }
      ]
    },
    {
      "metadata": {
        "id": "LvZj9vWWi9lx",
        "colab_type": "code",
        "colab": {
          "base_uri": "https://localhost:8080/",
          "height": 36
        },
        "outputId": "9be456f8-2d3c-4b9c-bd20-ac5761c6241a"
      },
      "cell_type": "code",
      "source": [
        "#### Question 2 ####\n",
        "\n",
        "'''p of bag1 = p(b1) = 1/2\n",
        "     bag2 = p(b2) = 1/2\n",
        "  \n",
        "p of black ball from b1 = p(black|b1) = 6/10\n",
        "                     b2 = p(black|b2) = 3/7\n",
        "  \n",
        "p(b1|black) = p(black|b1)p(b1)/{p(black|b1)p(b1) + p(black|b2)p(b2)}'''\n",
        "p =6/10*1/2 / (6/10*1/2 + 3/7*1/2)\n",
        "print(p)"
      ],
      "execution_count": 2,
      "outputs": [
        {
          "output_type": "stream",
          "text": [
            "0.5833333333333334\n"
          ],
          "name": "stdout"
        }
      ]
    },
    {
      "metadata": {
        "id": "n4RDWsiYmSj0",
        "colab_type": "code",
        "colab": {
          "base_uri": "https://localhost:8080/",
          "height": 36
        },
        "outputId": "95df8b54-b0ca-4359-ed38-7b456fba565b"
      },
      "cell_type": "code",
      "source": [
        "#### Question 3 ####\n",
        "\n",
        "''' p of 4 occuring = 1/6\n",
        "    p of 4 not occuring = 5/6\n",
        "    \n",
        "    p of man reported 4 and it is actually a 4 = p(4|reported 4) = p(4)*p(reported 4|4) / {p(4)*p(reported 4|4) + p(not4)P(reported 4|not4)}\n",
        "    '''\n",
        "\n",
        "p = 1/6 * 2/3 / (1/6*2/3 + 5/6*1/3)\n",
        "print(p)"
      ],
      "execution_count": 3,
      "outputs": [
        {
          "output_type": "stream",
          "text": [
            "0.2857142857142857\n"
          ],
          "name": "stdout"
        }
      ]
    }
  ]
}
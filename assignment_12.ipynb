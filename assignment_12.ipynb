{
  "nbformat": 4,
  "nbformat_minor": 0,
  "metadata": {
    "colab": {
      "name": "assignment_12.ipynb",
      "version": "0.3.2",
      "provenance": []
    },
    "kernelspec": {
      "name": "python3",
      "display_name": "Python 3"
    }
  },
  "cells": [
    {
      "cell_type": "markdown",
      "metadata": {
        "id": "view-in-github",
        "colab_type": "text"
      },
      "source": [
        "[View in Colaboratory](https://colab.research.google.com/github/harjeevansingh/ML_ON1Acadview/blob/master/assignment_12.ipynb)"
      ]
    },
    {
      "metadata": {
        "id": "kGvU3OHvOb8a",
        "colab_type": "code",
        "colab": {}
      },
      "cell_type": "code",
      "source": [
        "import pandas as pd\n",
        "import numpy as np\n",
        "from sklearn import model_selection\n",
        "from sklearn.linear_model import LogisticRegression\n",
        "from sklearn.datasets import load_digits"
      ],
      "execution_count": 0,
      "outputs": []
    },
    {
      "metadata": {
        "id": "WSv82VBDOi1r",
        "colab_type": "code",
        "colab": {}
      },
      "cell_type": "code",
      "source": [
        "## Question 1\n",
        "data=load_digits()"
      ],
      "execution_count": 0,
      "outputs": []
    },
    {
      "metadata": {
        "id": "cvPkd1CTg9SK",
        "colab_type": "code",
        "colab": {
          "base_uri": "https://localhost:8080/",
          "height": 374
        },
        "outputId": "827c61dd-0e02-4747-9036-1a4b4746354d"
      },
      "cell_type": "code",
      "source": [
        "import matplotlib\n",
        "matplotlib.pyplot.matshow(data.images[3])"
      ],
      "execution_count": 77,
      "outputs": [
        {
          "output_type": "execute_result",
          "data": {
            "text/plain": [
              "<matplotlib.image.AxesImage at 0x7fa3cf80d198>"
            ]
          },
          "metadata": {
            "tags": []
          },
          "execution_count": 77
        },
        {
          "output_type": "display_data",
          "data": {
            "image/png": "[encoded data removed]",
            "text/plain": [
              "<matplotlib.figure.Figure at 0x7fa3cf931320>"
            ]
          },
          "metadata": {
            "tags": []
          }
        }
      ]
    },
    {
      "metadata": {
        "id": "iFzH_wrgOhB5",
        "colab_type": "code",
        "colab": {}
      },
      "cell_type": "code",
      "source": [
        "## Question 2\n",
        "x=np.array(data.data)\n",
        "y=data.target"
      ],
      "execution_count": 0,
      "outputs": []
    },
    {
      "metadata": {
        "id": "eMKFxWuMRsWe",
        "colab_type": "code",
        "colab": {}
      },
      "cell_type": "code",
      "source": [
        "## Question 3\n",
        "kfold=model_selection.KFold(n_splits=10,random_state=7)"
      ],
      "execution_count": 0,
      "outputs": []
    },
    {
      "metadata": {
        "id": "O_ApD0bV8wL6",
        "colab_type": "code",
        "colab": {
          "base_uri": "https://localhost:8080/",
          "height": 91
        },
        "outputId": "870db025-87a4-4fc9-dff9-fa1120dc07d3"
      },
      "cell_type": "code",
      "source": [
        "## Question 4\n",
        "model=LogisticRegression()\n",
        "(x_train,x_test,y_train,y_test)=model_selection.train_test_split(x,y,test_size=0.33,random_state=7)\n",
        "model.fit(x_train,y_train)"
      ],
      "execution_count": 69,
      "outputs": [
        {
          "output_type": "execute_result",
          "data": {
            "text/plain": [
              "LogisticRegression(C=1.0, class_weight=None, dual=False, fit_intercept=True,\n",
              "          intercept_scaling=1, max_iter=100, multi_class='ovr', n_jobs=1,\n",
              "          penalty='l2', random_state=None, solver='liblinear', tol=0.0001,\n",
              "          verbose=0, warm_start=False)"
            ]
          },
          "metadata": {
            "tags": []
          },
          "execution_count": 69
        }
      ]
    },
    {
      "metadata": {
        "id": "FPU90qzF8182",
        "colab_type": "code",
        "colab": {
          "base_uri": "https://localhost:8080/",
          "height": 36
        },
        "outputId": "4f8a05e5-841d-484a-bd12-d0f89e8ab437"
      },
      "cell_type": "code",
      "source": [
        "## Question 5 a\n",
        "results=model_selection.cross_val_score(model,x,y,cv=kfold,scoring='accuracy')\n",
        "print('Classification Accuracy= %.3f(%.3f) ' % (results.mean(), results.std()))"
      ],
      "execution_count": 58,
      "outputs": [
        {
          "output_type": "stream",
          "text": [
            "Classification Accuracy= 0.932(0.035) \n"
          ],
          "name": "stdout"
        }
      ]
    },
    {
      "metadata": {
        "id": "ZCBVhPTz_WDr",
        "colab_type": "code",
        "colab": {
          "base_uri": "https://localhost:8080/",
          "height": 36
        },
        "outputId": "9b4a61a6-875f-406e-85cf-92cbd832a297"
      },
      "cell_type": "code",
      "source": [
        "## Question 5 b\n",
        "results=model_selection.cross_val_score(model,x,y,cv=kfold,scoring='neg_log_loss')\n",
        "print('Logarithmic Loss = %.3f(%.3f) ' % (results.mean(), results.std()))"
      ],
      "execution_count": 48,
      "outputs": [
        {
          "output_type": "stream",
          "text": [
            "Logarithmic Loss = -0.344(0.220) \n"
          ],
          "name": "stdout"
        }
      ]
    },
    {
      "metadata": {
        "id": "FA5WN_ER_kpL",
        "colab_type": "code",
        "colab": {
          "base_uri": "https://localhost:8080/",
          "height": 36
        },
        "outputId": "d3c4be14-f027-4e72-a153-252fd7a0a6f1"
      },
      "cell_type": "code",
      "source": [
        "## Question 5 c\n",
        "results=model_selection.cross_val_score(model,x,y,cv=kfold,scoring='r2')\n",
        "print('R2 Metrics = %.3f(%.3f) ' % (results.mean(), results.std()))"
      ],
      "execution_count": 49,
      "outputs": [
        {
          "output_type": "stream",
          "text": [
            "R2 Metrics = 0.823(0.096) \n"
          ],
          "name": "stdout"
        }
      ]
    },
    {
      "metadata": {
        "id": "D0iKTxCk_4zJ",
        "colab_type": "code",
        "colab": {
          "base_uri": "https://localhost:8080/",
          "height": 36
        },
        "outputId": "fe8baa47-6e64-4923-897a-cd646c83e258"
      },
      "cell_type": "code",
      "source": [
        "## Question 5 d\n",
        "results=model_selection.cross_val_score(model,x,y,cv=kfold,scoring='neg_mean_absolute_error')\n",
        "print('Mean Absolute Error = %.3f(%.3f) ' % (results.mean(), results.std()))"
      ],
      "execution_count": 50,
      "outputs": [
        {
          "output_type": "stream",
          "text": [
            "Mean Absolute Error = -0.277(0.144) \n"
          ],
          "name": "stdout"
        }
      ]
    },
    {
      "metadata": {
        "id": "LHUdqrnBAGic",
        "colab_type": "code",
        "colab": {
          "base_uri": "https://localhost:8080/",
          "height": 36
        },
        "outputId": "a92cbd0a-51ee-48be-82df-accf6018f94c"
      },
      "cell_type": "code",
      "source": [
        "## Question 5 e\n",
        "results=model_selection.cross_val_score(model,x,y,cv=kfold,scoring='neg_mean_squared_error')\n",
        "print('Mean Squared error = %.3f(%.3f) ' % (results.mean(), results.std()))"
      ],
      "execution_count": 51,
      "outputs": [
        {
          "output_type": "stream",
          "text": [
            "Mean Squared error = -1.452(0.805) \n"
          ],
          "name": "stdout"
        }
      ]
    },
    {
      "metadata": {
        "id": "AA_32v52BfcX",
        "colab_type": "text"
      },
      "cell_type": "markdown",
      "source": [
        "## Confusion Matrix"
      ]
    },
    {
      "metadata": {
        "id": "Ay_5rly5A7W4",
        "colab_type": "code",
        "colab": {}
      },
      "cell_type": "code",
      "source": [
        "## Question 5 f\n",
        "from sklearn.metrics import confusion_matrix, classification_report\n"
      ],
      "execution_count": 0,
      "outputs": []
    },
    {
      "metadata": {
        "id": "5Q443hmbBwX5",
        "colab_type": "code",
        "colab": {
          "base_uri": "https://localhost:8080/",
          "height": 203
        },
        "outputId": "03250c07-a3f1-442f-b021-c67618c7484b"
      },
      "cell_type": "code",
      "source": [
        "predicted=model.predict(x_test)\n",
        "matrix=confusion_matrix(y_test, predicted)\n",
        "print(matrix)"
      ],
      "execution_count": 55,
      "outputs": [
        {
          "output_type": "stream",
          "text": [
            "[[63  0  0  0  0  0  0  0  0  0]\n",
            " [ 0 52  0  3  0  0  0  0  1  1]\n",
            " [ 0  0 56  1  0  0  0  0  0  0]\n",
            " [ 0  0  0 53  0  1  0  1  1  1]\n",
            " [ 0  0  0  0 62  0  1  1  0  0]\n",
            " [ 0  0  0  0  0 50  0  0  0  1]\n",
            " [ 1  1  0  0  0  0 54  0  0  0]\n",
            " [ 0  0  0  0  1  0  0 57  0  0]\n",
            " [ 0  4  1  1  1  1  1  0 60  0]\n",
            " [ 0  0  0  1  0  1  0  1  3 56]]\n"
          ],
          "name": "stdout"
        }
      ]
    },
    {
      "metadata": {
        "id": "6I7MKVrSChxM",
        "colab_type": "text"
      },
      "cell_type": "markdown",
      "source": [
        "## Classification Report"
      ]
    },
    {
      "metadata": {
        "id": "weoDAt22ClJB",
        "colab_type": "code",
        "colab": {
          "base_uri": "https://localhost:8080/",
          "height": 296
        },
        "outputId": "881d45e9-d376-44c3-8a01-e83708360a6c"
      },
      "cell_type": "code",
      "source": [
        "## Question 5 g\n",
        "report=classification_report(y_test,predicted)\n",
        "print(report)"
      ],
      "execution_count": 56,
      "outputs": [
        {
          "output_type": "stream",
          "text": [
            "             precision    recall  f1-score   support\n",
            "\n",
            "          0       0.98      1.00      0.99        63\n",
            "          1       0.91      0.91      0.91        57\n",
            "          2       0.98      0.98      0.98        57\n",
            "          3       0.90      0.93      0.91        57\n",
            "          4       0.97      0.97      0.97        64\n",
            "          5       0.94      0.98      0.96        51\n",
            "          6       0.96      0.96      0.96        56\n",
            "          7       0.95      0.98      0.97        58\n",
            "          8       0.92      0.87      0.90        69\n",
            "          9       0.95      0.90      0.93        62\n",
            "\n",
            "avg / total       0.95      0.95      0.95       594\n",
            "\n"
          ],
          "name": "stdout"
        }
      ]
    }
  ]
}
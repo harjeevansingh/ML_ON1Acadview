{
  "nbformat": 4,
  "nbformat_minor": 0,
  "metadata": {
    "colab": {
      "name": "assignment_7.ipynb",
      "version": "0.3.2",
      "views": {},
      "default_view": {},
      "provenance": []
    },
    "kernelspec": {
      "name": "python3",
      "display_name": "Python 3"
    }
  },
  "cells": [
    {
      "metadata": {
        "id": "hfDjmuV5uP4F",
        "colab_type": "text"
      },
      "cell_type": "markdown",
      "source": [
        "# Exploratory Data analysis on Red Wine Dataset\n",
        "\n",
        "\n",
        "The project is aimed at looking and finding deep insights of the white wine dataset. The report also aims in bringing us to a conclusion so as to what are the factors that affect the quality of wine.\n",
        "\n",
        "The data used is based on the wine quality dataset as recommended by Shreyas Sir. The features of the dataset are as follows , This dataset has 13 variables which contains 9 variables of ingredient, 2 variables of physical properity, 1 variable of quantity and 1 of quality. The dataset are of the size 4989 , 13. The libraries used for the data are , tidyverse and GGally. The libraries are used for visualization which can help us to come to conclusion.\n"
      ]
    },
    {
      "metadata": {
        "id": "QEIX7ZqguZ18",
        "colab_type": "text"
      },
      "cell_type": "markdown",
      "source": [
        ""
      ]
    },
    {
      "metadata": {
        "id": "TMouiN-DvJLm",
        "colab_type": "code",
        "colab": {
          "autoexec": {
            "startup": false,
            "wait_interval": 0
          },
          "base_uri": "https://localhost:8080/",
          "height": 38
        },
        "outputId": "42bce7f1-6ca4-4e4a-830b-402c291fd3a2",
        "executionInfo": {
          "status": "ok",
          "timestamp": 1528450299529,
          "user_tz": -330,
          "elapsed": 1098,
          "user": {
            "displayName": "harjeevan singh",
            "photoUrl": "//lh6.googleusercontent.com/-q9gltG_UHgg/AAAAAAAAAAI/AAAAAAAACbI/n81lqLQbCDU/s50-c-k-no/photo.jpg",
            "userId": "117183592944310875348"
          }
        }
      },
      "cell_type": "code",
      "source": [
        "from IPython.display import HTML\n",
        "\n",
        "HTML('''<script>\n",
        "code_show=true; \n",
        "function code_toggle() {\n",
        " if (code_show){\n",
        " $('div.input').hide();\n",
        " } else {\n",
        " $('div.input').show();\n",
        " }\n",
        " code_show = !code_show\n",
        "} \n",
        "$( document ).ready(code_toggle);\n",
        "</script>\n",
        "<form action=\"javascript:code_toggle()\"><input type=\"submit\" value=\"Click here to toggle on/off the raw code.\"></form>''')"
      ],
      "execution_count": 7,
      "outputs": [
        {
          "output_type": "execute_result",
          "data": {
            "text/html": [
              "<script>\n",
              "code_show=true; \n",
              "function code_toggle() {\n",
              " if (code_show){\n",
              " $('div.input').hide();\n",
              " } else {\n",
              " $('div.input').show();\n",
              " }\n",
              " code_show = !code_show\n",
              "} \n",
              "$( document ).ready(code_toggle);\n",
              "</script>\n",
              "<form action=\"javascript:code_toggle()\"><input type=\"submit\" value=\"Click here to toggle on/off the raw code.\"></form>"
            ],
            "text/plain": [
              "<IPython.core.display.HTML object>"
            ]
          },
          "metadata": {
            "tags": []
          },
          "execution_count": 7
        }
      ]
    },
    {
      "metadata": {
        "id": "JR3FBZzkwEOy",
        "colab_type": "text"
      },
      "cell_type": "markdown",
      "source": [
        "# Data Description\n",
        "\n",
        "Data description\n",
        "\n",
        "The data is in csv format.In computing, a comma-separated values (CSV) file stores tabular data (numbers and text) in plain text. Each line of the file is a data record. Each record consists of one or more fields, separated by commas.\n",
        "\n",
        "All wines are produced in a particular area of Portugal. Data are collected on 12 different properties of the wines one of which is Quality, based on sensory data, and the rest are on chemical properties of the wines including density, acidity, alcohol content etc. All chemical properties of wines are continuous variables. Quality is an ordinal variable with possible ranking from 1 (worst) to 10 (best). Each variety of wine is tasted by three independent tasters and the final rank assigned is the median rank given by the tasters.\n",
        "\n",
        "## Attribute Information\n",
        "For more information, read [Cortez et al., 2009]. Input variables (based on physicochemical tests):\n",
        "\n",
        "1.fixed acidity\n",
        "\n",
        "2.volatile acidity\n",
        "\n",
        "3.citric acid\n",
        "\n",
        "4.residual sugar\n",
        "\n",
        "5.chlorides\n",
        "\n",
        "6.free sulfur dioxide\n",
        "\n",
        "7.total sulfur dioxide\n",
        "\n",
        "8.density\n",
        "\n",
        "9.pH\n",
        "\n",
        "10.sulphates\n",
        "\n",
        "11.alcohol Output variable (based on sensory data):\n",
        "\n",
        "12.quality (score between 0 and 10)\n"
      ]
    },
    {
      "metadata": {
        "id": "I_bRARBVw1iX",
        "colab_type": "text"
      },
      "cell_type": "markdown",
      "source": [
        "![image](https://www.montecreekranchwinery.com/wp-content/uploads/2017/04/wine-lineup-spring-2017-1024x321.png)"
      ]
    },
    {
      "metadata": {
        "id": "nMSpa2ndsJIW",
        "colab_type": "code",
        "colab": {
          "autoexec": {
            "startup": false,
            "wait_interval": 0
          }
        }
      },
      "cell_type": "code",
      "source": [
        "import pandas as pd\n",
        "import seaborn as sns\n",
        "import numpy as np\n",
        "import matplotlib.pyplot as plt\n",
        "%matplotlib inline\n"
      ],
      "execution_count": 0,
      "outputs": []
    },
    {
      "metadata": {
        "id": "toBrN1MbtsGC",
        "colab_type": "code",
        "colab": {
          "autoexec": {
            "startup": false,
            "wait_interval": 0
          }
        }
      },
      "cell_type": "code",
      "source": [
        "df=pd.read_csv(\"https://raw.githubusercontent.com/Shreyas3108/May28thMLbatcj/master/wineQualityWhites.csv\")"
      ],
      "execution_count": 0,
      "outputs": []
    },
    {
      "metadata": {
        "id": "1AmoWI_NyLbz",
        "colab_type": "text"
      },
      "cell_type": "markdown",
      "source": [
        "Now, we will view our imported data frame by making use of the head function to show first 5 rows."
      ]
    },
    {
      "metadata": {
        "id": "dGjWyC6ptw31",
        "colab_type": "code",
        "colab": {
          "autoexec": {
            "startup": false,
            "wait_interval": 0
          },
          "base_uri": "https://localhost:8080/",
          "height": 243
        },
        "outputId": "933ebfa3-662e-41af-869b-dae3c22195ab",
        "executionInfo": {
          "status": "ok",
          "timestamp": 1528451211348,
          "user_tz": -330,
          "elapsed": 1035,
          "user": {
            "displayName": "harjeevan singh",
            "photoUrl": "//lh6.googleusercontent.com/-q9gltG_UHgg/AAAAAAAAAAI/AAAAAAAACbI/n81lqLQbCDU/s50-c-k-no/photo.jpg",
            "userId": "117183592944310875348"
          }
        }
      },
      "cell_type": "code",
      "source": [
        "df.head()"
      ],
      "execution_count": 14,
      "outputs": [
        {
          "output_type": "execute_result",
          "data": {
            "text/html": [
              "<div>\n",
              "<style scoped>\n",
              "    .dataframe tbody tr th:only-of-type {\n",
              "        vertical-align: middle;\n",
              "    }\n",
              "\n",
              "    .dataframe tbody tr th {\n",
              "        vertical-align: top;\n",
              "    }\n",
              "\n",
              "    .dataframe thead th {\n",
              "        text-align: right;\n",
              "    }\n",
              "</style>\n",
              "<table border=\"1\" class=\"dataframe\">\n",
              "  <thead>\n",
              "    <tr style=\"text-align: right;\">\n",
              "      <th></th>\n",
              "      <th>Unnamed: 0</th>\n",
              "      <th>fixed.acidity</th>\n",
              "      <th>volatile.acidity</th>\n",
              "      <th>citric.acid</th>\n",
              "      <th>residual.sugar</th>\n",
              "      <th>chlorides</th>\n",
              "      <th>free.sulfur.dioxide</th>\n",
              "      <th>total.sulfur.dioxide</th>\n",
              "      <th>density</th>\n",
              "      <th>pH</th>\n",
              "      <th>sulphates</th>\n",
              "      <th>alcohol</th>\n",
              "      <th>quality</th>\n",
              "    </tr>\n",
              "  </thead>\n",
              "  <tbody>\n",
              "    <tr>\n",
              "      <th>0</th>\n",
              "      <td>1</td>\n",
              "      <td>7.0</td>\n",
              "      <td>0.27</td>\n",
              "      <td>0.36</td>\n",
              "      <td>20.7</td>\n",
              "      <td>0.045</td>\n",
              "      <td>45.0</td>\n",
              "      <td>170.0</td>\n",
              "      <td>1.0010</td>\n",
              "      <td>3.00</td>\n",
              "      <td>0.45</td>\n",
              "      <td>8.8</td>\n",
              "      <td>6</td>\n",
              "    </tr>\n",
              "    <tr>\n",
              "      <th>1</th>\n",
              "      <td>2</td>\n",
              "      <td>6.3</td>\n",
              "      <td>0.30</td>\n",
              "      <td>0.34</td>\n",
              "      <td>1.6</td>\n",
              "      <td>0.049</td>\n",
              "      <td>14.0</td>\n",
              "      <td>132.0</td>\n",
              "      <td>0.9940</td>\n",
              "      <td>3.30</td>\n",
              "      <td>0.49</td>\n",
              "      <td>9.5</td>\n",
              "      <td>6</td>\n",
              "    </tr>\n",
              "    <tr>\n",
              "      <th>2</th>\n",
              "      <td>3</td>\n",
              "      <td>8.1</td>\n",
              "      <td>0.28</td>\n",
              "      <td>0.40</td>\n",
              "      <td>6.9</td>\n",
              "      <td>0.050</td>\n",
              "      <td>30.0</td>\n",
              "      <td>97.0</td>\n",
              "      <td>0.9951</td>\n",
              "      <td>3.26</td>\n",
              "      <td>0.44</td>\n",
              "      <td>10.1</td>\n",
              "      <td>6</td>\n",
              "    </tr>\n",
              "    <tr>\n",
              "      <th>3</th>\n",
              "      <td>4</td>\n",
              "      <td>7.2</td>\n",
              "      <td>0.23</td>\n",
              "      <td>0.32</td>\n",
              "      <td>8.5</td>\n",
              "      <td>0.058</td>\n",
              "      <td>47.0</td>\n",
              "      <td>186.0</td>\n",
              "      <td>0.9956</td>\n",
              "      <td>3.19</td>\n",
              "      <td>0.40</td>\n",
              "      <td>9.9</td>\n",
              "      <td>6</td>\n",
              "    </tr>\n",
              "    <tr>\n",
              "      <th>4</th>\n",
              "      <td>5</td>\n",
              "      <td>7.2</td>\n",
              "      <td>0.23</td>\n",
              "      <td>0.32</td>\n",
              "      <td>8.5</td>\n",
              "      <td>0.058</td>\n",
              "      <td>47.0</td>\n",
              "      <td>186.0</td>\n",
              "      <td>0.9956</td>\n",
              "      <td>3.19</td>\n",
              "      <td>0.40</td>\n",
              "      <td>9.9</td>\n",
              "      <td>6</td>\n",
              "    </tr>\n",
              "  </tbody>\n",
              "</table>\n",
              "</div>"
            ],
            "text/plain": [
              "   Unnamed: 0  fixed.acidity  volatile.acidity  citric.acid  residual.sugar  \\\n",
              "0           1            7.0              0.27         0.36            20.7   \n",
              "1           2            6.3              0.30         0.34             1.6   \n",
              "2           3            8.1              0.28         0.40             6.9   \n",
              "3           4            7.2              0.23         0.32             8.5   \n",
              "4           5            7.2              0.23         0.32             8.5   \n",
              "\n",
              "   chlorides  free.sulfur.dioxide  total.sulfur.dioxide  density    pH  \\\n",
              "0      0.045                 45.0                 170.0   1.0010  3.00   \n",
              "1      0.049                 14.0                 132.0   0.9940  3.30   \n",
              "2      0.050                 30.0                  97.0   0.9951  3.26   \n",
              "3      0.058                 47.0                 186.0   0.9956  3.19   \n",
              "4      0.058                 47.0                 186.0   0.9956  3.19   \n",
              "\n",
              "   sulphates  alcohol  quality  \n",
              "0       0.45      8.8        6  \n",
              "1       0.49      9.5        6  \n",
              "2       0.44     10.1        6  \n",
              "3       0.40      9.9        6  \n",
              "4       0.40      9.9        6  "
            ]
          },
          "metadata": {
            "tags": []
          },
          "execution_count": 14
        }
      ]
    },
    {
      "metadata": {
        "id": "7Rfu_gjMyhzk",
        "colab_type": "code",
        "colab": {
          "autoexec": {
            "startup": false,
            "wait_interval": 0
          },
          "base_uri": "https://localhost:8080/",
          "height": 1162
        },
        "outputId": "ae5aae64-1e42-41a0-f807-1032ccd44767",
        "executionInfo": {
          "status": "ok",
          "timestamp": 1528451241126,
          "user_tz": -330,
          "elapsed": 1012,
          "user": {
            "displayName": "harjeevan singh",
            "photoUrl": "//lh6.googleusercontent.com/-q9gltG_UHgg/AAAAAAAAAAI/AAAAAAAACbI/n81lqLQbCDU/s50-c-k-no/photo.jpg",
            "userId": "117183592944310875348"
          }
        }
      },
      "cell_type": "code",
      "source": [
        "df.pop(\"Unnamed: 0\")"
      ],
      "execution_count": 15,
      "outputs": [
        {
          "output_type": "execute_result",
          "data": {
            "text/plain": [
              "0          1\n",
              "1          2\n",
              "2          3\n",
              "3          4\n",
              "4          5\n",
              "5          6\n",
              "6          7\n",
              "7          8\n",
              "8          9\n",
              "9         10\n",
              "10        11\n",
              "11        12\n",
              "12        13\n",
              "13        14\n",
              "14        15\n",
              "15        16\n",
              "16        17\n",
              "17        18\n",
              "18        19\n",
              "19        20\n",
              "20        21\n",
              "21        22\n",
              "22        23\n",
              "23        24\n",
              "24        25\n",
              "25        26\n",
              "26        27\n",
              "27        28\n",
              "28        29\n",
              "29        30\n",
              "        ... \n",
              "4868    4869\n",
              "4869    4870\n",
              "4870    4871\n",
              "4871    4872\n",
              "4872    4873\n",
              "4873    4874\n",
              "4874    4875\n",
              "4875    4876\n",
              "4876    4877\n",
              "4877    4878\n",
              "4878    4879\n",
              "4879    4880\n",
              "4880    4881\n",
              "4881    4882\n",
              "4882    4883\n",
              "4883    4884\n",
              "4884    4885\n",
              "4885    4886\n",
              "4886    4887\n",
              "4887    4888\n",
              "4888    4889\n",
              "4889    4890\n",
              "4890    4891\n",
              "4891    4892\n",
              "4892    4893\n",
              "4893    4894\n",
              "4894    4895\n",
              "4895    4896\n",
              "4896    4897\n",
              "4897    4898\n",
              "Name: Unnamed: 0, Length: 4898, dtype: int64"
            ]
          },
          "metadata": {
            "tags": []
          },
          "execution_count": 15
        }
      ]
    },
    {
      "metadata": {
        "id": "KRtzwP--y18N",
        "colab_type": "code",
        "colab": {
          "autoexec": {
            "startup": false,
            "wait_interval": 0
          },
          "base_uri": "https://localhost:8080/",
          "height": 226
        },
        "outputId": "e3842450-f927-4aa2-c3c8-829a39647694",
        "executionInfo": {
          "status": "ok",
          "timestamp": 1528452066090,
          "user_tz": -330,
          "elapsed": 1050,
          "user": {
            "displayName": "harjeevan singh",
            "photoUrl": "//lh6.googleusercontent.com/-q9gltG_UHgg/AAAAAAAAAAI/AAAAAAAACbI/n81lqLQbCDU/s50-c-k-no/photo.jpg",
            "userId": "117183592944310875348"
          }
        }
      },
      "cell_type": "code",
      "source": [
        "df.head()"
      ],
      "execution_count": 28,
      "outputs": [
        {
          "output_type": "execute_result",
          "data": {
            "text/html": [
              "<div>\n",
              "<style scoped>\n",
              "    .dataframe tbody tr th:only-of-type {\n",
              "        vertical-align: middle;\n",
              "    }\n",
              "\n",
              "    .dataframe tbody tr th {\n",
              "        vertical-align: top;\n",
              "    }\n",
              "\n",
              "    .dataframe thead th {\n",
              "        text-align: right;\n",
              "    }\n",
              "</style>\n",
              "<table border=\"1\" class=\"dataframe\">\n",
              "  <thead>\n",
              "    <tr style=\"text-align: right;\">\n",
              "      <th></th>\n",
              "      <th>fixed.acidity</th>\n",
              "      <th>volatile.acidity</th>\n",
              "      <th>citric.acid</th>\n",
              "      <th>residual.sugar</th>\n",
              "      <th>chlorides</th>\n",
              "      <th>free.sulfur.dioxide</th>\n",
              "      <th>total.sulfur.dioxide</th>\n",
              "      <th>density</th>\n",
              "      <th>pH</th>\n",
              "      <th>sulphates</th>\n",
              "      <th>alcohol</th>\n",
              "      <th>quality</th>\n",
              "    </tr>\n",
              "  </thead>\n",
              "  <tbody>\n",
              "    <tr>\n",
              "      <th>0</th>\n",
              "      <td>7.0</td>\n",
              "      <td>0.27</td>\n",
              "      <td>0.36</td>\n",
              "      <td>20.7</td>\n",
              "      <td>0.045</td>\n",
              "      <td>45.0</td>\n",
              "      <td>170.0</td>\n",
              "      <td>1.0010</td>\n",
              "      <td>3.00</td>\n",
              "      <td>0.45</td>\n",
              "      <td>8.8</td>\n",
              "      <td>6</td>\n",
              "    </tr>\n",
              "    <tr>\n",
              "      <th>1</th>\n",
              "      <td>6.3</td>\n",
              "      <td>0.30</td>\n",
              "      <td>0.34</td>\n",
              "      <td>1.6</td>\n",
              "      <td>0.049</td>\n",
              "      <td>14.0</td>\n",
              "      <td>132.0</td>\n",
              "      <td>0.9940</td>\n",
              "      <td>3.30</td>\n",
              "      <td>0.49</td>\n",
              "      <td>9.5</td>\n",
              "      <td>6</td>\n",
              "    </tr>\n",
              "    <tr>\n",
              "      <th>2</th>\n",
              "      <td>8.1</td>\n",
              "      <td>0.28</td>\n",
              "      <td>0.40</td>\n",
              "      <td>6.9</td>\n",
              "      <td>0.050</td>\n",
              "      <td>30.0</td>\n",
              "      <td>97.0</td>\n",
              "      <td>0.9951</td>\n",
              "      <td>3.26</td>\n",
              "      <td>0.44</td>\n",
              "      <td>10.1</td>\n",
              "      <td>6</td>\n",
              "    </tr>\n",
              "    <tr>\n",
              "      <th>3</th>\n",
              "      <td>7.2</td>\n",
              "      <td>0.23</td>\n",
              "      <td>0.32</td>\n",
              "      <td>8.5</td>\n",
              "      <td>0.058</td>\n",
              "      <td>47.0</td>\n",
              "      <td>186.0</td>\n",
              "      <td>0.9956</td>\n",
              "      <td>3.19</td>\n",
              "      <td>0.40</td>\n",
              "      <td>9.9</td>\n",
              "      <td>6</td>\n",
              "    </tr>\n",
              "    <tr>\n",
              "      <th>4</th>\n",
              "      <td>7.2</td>\n",
              "      <td>0.23</td>\n",
              "      <td>0.32</td>\n",
              "      <td>8.5</td>\n",
              "      <td>0.058</td>\n",
              "      <td>47.0</td>\n",
              "      <td>186.0</td>\n",
              "      <td>0.9956</td>\n",
              "      <td>3.19</td>\n",
              "      <td>0.40</td>\n",
              "      <td>9.9</td>\n",
              "      <td>6</td>\n",
              "    </tr>\n",
              "  </tbody>\n",
              "</table>\n",
              "</div>"
            ],
            "text/plain": [
              "   fixed.acidity  volatile.acidity  citric.acid  residual.sugar  chlorides  \\\n",
              "0            7.0              0.27         0.36            20.7      0.045   \n",
              "1            6.3              0.30         0.34             1.6      0.049   \n",
              "2            8.1              0.28         0.40             6.9      0.050   \n",
              "3            7.2              0.23         0.32             8.5      0.058   \n",
              "4            7.2              0.23         0.32             8.5      0.058   \n",
              "\n",
              "   free.sulfur.dioxide  total.sulfur.dioxide  density    pH  sulphates  \\\n",
              "0                 45.0                 170.0   1.0010  3.00       0.45   \n",
              "1                 14.0                 132.0   0.9940  3.30       0.49   \n",
              "2                 30.0                  97.0   0.9951  3.26       0.44   \n",
              "3                 47.0                 186.0   0.9956  3.19       0.40   \n",
              "4                 47.0                 186.0   0.9956  3.19       0.40   \n",
              "\n",
              "   alcohol  quality  \n",
              "0      8.8        6  \n",
              "1      9.5        6  \n",
              "2     10.1        6  \n",
              "3      9.9        6  \n",
              "4      9.9        6  "
            ]
          },
          "metadata": {
            "tags": []
          },
          "execution_count": 28
        }
      ]
    },
    {
      "metadata": {
        "id": "zyrhDLMJt3Au",
        "colab_type": "code",
        "colab": {
          "autoexec": {
            "startup": false,
            "wait_interval": 0
          },
          "base_uri": "https://localhost:8080/",
          "height": 35
        },
        "outputId": "800f7bf9-c8fa-4f3b-ec2c-21e9f9b8421d",
        "executionInfo": {
          "status": "ok",
          "timestamp": 1528451248544,
          "user_tz": -330,
          "elapsed": 1015,
          "user": {
            "displayName": "harjeevan singh",
            "photoUrl": "//lh6.googleusercontent.com/-q9gltG_UHgg/AAAAAAAAAAI/AAAAAAAACbI/n81lqLQbCDU/s50-c-k-no/photo.jpg",
            "userId": "117183592944310875348"
          }
        }
      },
      "cell_type": "code",
      "source": [
        "df.shape"
      ],
      "execution_count": 16,
      "outputs": [
        {
          "output_type": "execute_result",
          "data": {
            "text/plain": [
              "(4898, 12)"
            ]
          },
          "metadata": {
            "tags": []
          },
          "execution_count": 16
        }
      ]
    },
    {
      "metadata": {
        "id": "sqg2luwIt50f",
        "colab_type": "code",
        "colab": {
          "autoexec": {
            "startup": false,
            "wait_interval": 0
          },
          "base_uri": "https://localhost:8080/",
          "height": 35
        },
        "outputId": "29d23fd2-305e-4a3d-de11-c12bd355d4eb",
        "executionInfo": {
          "status": "ok",
          "timestamp": 1528451252522,
          "user_tz": -330,
          "elapsed": 1007,
          "user": {
            "displayName": "harjeevan singh",
            "photoUrl": "//lh6.googleusercontent.com/-q9gltG_UHgg/AAAAAAAAAAI/AAAAAAAACbI/n81lqLQbCDU/s50-c-k-no/photo.jpg",
            "userId": "117183592944310875348"
          }
        }
      },
      "cell_type": "code",
      "source": [
        "df.size"
      ],
      "execution_count": 17,
      "outputs": [
        {
          "output_type": "execute_result",
          "data": {
            "text/plain": [
              "58776"
            ]
          },
          "metadata": {
            "tags": []
          },
          "execution_count": 17
        }
      ]
    },
    {
      "metadata": {
        "id": "6GhjZj59zGsb",
        "colab_type": "code",
        "colab": {
          "autoexec": {
            "startup": false,
            "wait_interval": 0
          },
          "base_uri": "https://localhost:8080/",
          "height": 320
        },
        "outputId": "7ae1f9f3-62d4-4517-9e37-0d2e922d351c",
        "executionInfo": {
          "status": "ok",
          "timestamp": 1528451399414,
          "user_tz": -330,
          "elapsed": 974,
          "user": {
            "displayName": "harjeevan singh",
            "photoUrl": "//lh6.googleusercontent.com/-q9gltG_UHgg/AAAAAAAAAAI/AAAAAAAACbI/n81lqLQbCDU/s50-c-k-no/photo.jpg",
            "userId": "117183592944310875348"
          }
        }
      },
      "cell_type": "code",
      "source": [
        "df.describe(include=\"all\")"
      ],
      "execution_count": 21,
      "outputs": [
        {
          "output_type": "execute_result",
          "data": {
            "text/html": [
              "<div>\n",
              "<style scoped>\n",
              "    .dataframe tbody tr th:only-of-type {\n",
              "        vertical-align: middle;\n",
              "    }\n",
              "\n",
              "    .dataframe tbody tr th {\n",
              "        vertical-align: top;\n",
              "    }\n",
              "\n",
              "    .dataframe thead th {\n",
              "        text-align: right;\n",
              "    }\n",
              "</style>\n",
              "<table border=\"1\" class=\"dataframe\">\n",
              "  <thead>\n",
              "    <tr style=\"text-align: right;\">\n",
              "      <th></th>\n",
              "      <th>fixed.acidity</th>\n",
              "      <th>volatile.acidity</th>\n",
              "      <th>citric.acid</th>\n",
              "      <th>residual.sugar</th>\n",
              "      <th>chlorides</th>\n",
              "      <th>free.sulfur.dioxide</th>\n",
              "      <th>total.sulfur.dioxide</th>\n",
              "      <th>density</th>\n",
              "      <th>pH</th>\n",
              "      <th>sulphates</th>\n",
              "      <th>alcohol</th>\n",
              "      <th>quality</th>\n",
              "    </tr>\n",
              "  </thead>\n",
              "  <tbody>\n",
              "    <tr>\n",
              "      <th>count</th>\n",
              "      <td>4898.000000</td>\n",
              "      <td>4898.000000</td>\n",
              "      <td>4898.000000</td>\n",
              "      <td>4898.000000</td>\n",
              "      <td>4898.000000</td>\n",
              "      <td>4898.000000</td>\n",
              "      <td>4898.000000</td>\n",
              "      <td>4898.000000</td>\n",
              "      <td>4898.000000</td>\n",
              "      <td>4898.000000</td>\n",
              "      <td>4898.000000</td>\n",
              "      <td>4898.000000</td>\n",
              "    </tr>\n",
              "    <tr>\n",
              "      <th>mean</th>\n",
              "      <td>6.854788</td>\n",
              "      <td>0.278241</td>\n",
              "      <td>0.334192</td>\n",
              "      <td>6.391415</td>\n",
              "      <td>0.045772</td>\n",
              "      <td>35.308085</td>\n",
              "      <td>138.360657</td>\n",
              "      <td>0.994027</td>\n",
              "      <td>3.188267</td>\n",
              "      <td>0.489847</td>\n",
              "      <td>10.514267</td>\n",
              "      <td>5.877909</td>\n",
              "    </tr>\n",
              "    <tr>\n",
              "      <th>std</th>\n",
              "      <td>0.843868</td>\n",
              "      <td>0.100795</td>\n",
              "      <td>0.121020</td>\n",
              "      <td>5.072058</td>\n",
              "      <td>0.021848</td>\n",
              "      <td>17.007137</td>\n",
              "      <td>42.498065</td>\n",
              "      <td>0.002991</td>\n",
              "      <td>0.151001</td>\n",
              "      <td>0.114126</td>\n",
              "      <td>1.230621</td>\n",
              "      <td>0.885639</td>\n",
              "    </tr>\n",
              "    <tr>\n",
              "      <th>min</th>\n",
              "      <td>3.800000</td>\n",
              "      <td>0.080000</td>\n",
              "      <td>0.000000</td>\n",
              "      <td>0.600000</td>\n",
              "      <td>0.009000</td>\n",
              "      <td>2.000000</td>\n",
              "      <td>9.000000</td>\n",
              "      <td>0.987110</td>\n",
              "      <td>2.720000</td>\n",
              "      <td>0.220000</td>\n",
              "      <td>8.000000</td>\n",
              "      <td>3.000000</td>\n",
              "    </tr>\n",
              "    <tr>\n",
              "      <th>25%</th>\n",
              "      <td>6.300000</td>\n",
              "      <td>0.210000</td>\n",
              "      <td>0.270000</td>\n",
              "      <td>1.700000</td>\n",
              "      <td>0.036000</td>\n",
              "      <td>23.000000</td>\n",
              "      <td>108.000000</td>\n",
              "      <td>0.991723</td>\n",
              "      <td>3.090000</td>\n",
              "      <td>0.410000</td>\n",
              "      <td>9.500000</td>\n",
              "      <td>5.000000</td>\n",
              "    </tr>\n",
              "    <tr>\n",
              "      <th>50%</th>\n",
              "      <td>6.800000</td>\n",
              "      <td>0.260000</td>\n",
              "      <td>0.320000</td>\n",
              "      <td>5.200000</td>\n",
              "      <td>0.043000</td>\n",
              "      <td>34.000000</td>\n",
              "      <td>134.000000</td>\n",
              "      <td>0.993740</td>\n",
              "      <td>3.180000</td>\n",
              "      <td>0.470000</td>\n",
              "      <td>10.400000</td>\n",
              "      <td>6.000000</td>\n",
              "    </tr>\n",
              "    <tr>\n",
              "      <th>75%</th>\n",
              "      <td>7.300000</td>\n",
              "      <td>0.320000</td>\n",
              "      <td>0.390000</td>\n",
              "      <td>9.900000</td>\n",
              "      <td>0.050000</td>\n",
              "      <td>46.000000</td>\n",
              "      <td>167.000000</td>\n",
              "      <td>0.996100</td>\n",
              "      <td>3.280000</td>\n",
              "      <td>0.550000</td>\n",
              "      <td>11.400000</td>\n",
              "      <td>6.000000</td>\n",
              "    </tr>\n",
              "    <tr>\n",
              "      <th>max</th>\n",
              "      <td>14.200000</td>\n",
              "      <td>1.100000</td>\n",
              "      <td>1.660000</td>\n",
              "      <td>65.800000</td>\n",
              "      <td>0.346000</td>\n",
              "      <td>289.000000</td>\n",
              "      <td>440.000000</td>\n",
              "      <td>1.038980</td>\n",
              "      <td>3.820000</td>\n",
              "      <td>1.080000</td>\n",
              "      <td>14.200000</td>\n",
              "      <td>9.000000</td>\n",
              "    </tr>\n",
              "  </tbody>\n",
              "</table>\n",
              "</div>"
            ],
            "text/plain": [
              "       fixed.acidity  volatile.acidity  citric.acid  residual.sugar  \\\n",
              "count    4898.000000       4898.000000  4898.000000     4898.000000   \n",
              "mean        6.854788          0.278241     0.334192        6.391415   \n",
              "std         0.843868          0.100795     0.121020        5.072058   \n",
              "min         3.800000          0.080000     0.000000        0.600000   \n",
              "25%         6.300000          0.210000     0.270000        1.700000   \n",
              "50%         6.800000          0.260000     0.320000        5.200000   \n",
              "75%         7.300000          0.320000     0.390000        9.900000   \n",
              "max        14.200000          1.100000     1.660000       65.800000   \n",
              "\n",
              "         chlorides  free.sulfur.dioxide  total.sulfur.dioxide      density  \\\n",
              "count  4898.000000          4898.000000           4898.000000  4898.000000   \n",
              "mean      0.045772            35.308085            138.360657     0.994027   \n",
              "std       0.021848            17.007137             42.498065     0.002991   \n",
              "min       0.009000             2.000000              9.000000     0.987110   \n",
              "25%       0.036000            23.000000            108.000000     0.991723   \n",
              "50%       0.043000            34.000000            134.000000     0.993740   \n",
              "75%       0.050000            46.000000            167.000000     0.996100   \n",
              "max       0.346000           289.000000            440.000000     1.038980   \n",
              "\n",
              "                pH    sulphates      alcohol      quality  \n",
              "count  4898.000000  4898.000000  4898.000000  4898.000000  \n",
              "mean      3.188267     0.489847    10.514267     5.877909  \n",
              "std       0.151001     0.114126     1.230621     0.885639  \n",
              "min       2.720000     0.220000     8.000000     3.000000  \n",
              "25%       3.090000     0.410000     9.500000     5.000000  \n",
              "50%       3.180000     0.470000    10.400000     6.000000  \n",
              "75%       3.280000     0.550000    11.400000     6.000000  \n",
              "max       3.820000     1.080000    14.200000     9.000000  "
            ]
          },
          "metadata": {
            "tags": []
          },
          "execution_count": 21
        }
      ]
    },
    {
      "metadata": {
        "id": "KapOQt7Qzihx",
        "colab_type": "code",
        "colab": {
          "autoexec": {
            "startup": false,
            "wait_interval": 0
          },
          "base_uri": "https://localhost:8080/",
          "height": 257
        },
        "outputId": "b70cdc5b-d9b0-46f5-891c-c45339e33f97",
        "executionInfo": {
          "status": "ok",
          "timestamp": 1528451455072,
          "user_tz": -330,
          "elapsed": 1036,
          "user": {
            "displayName": "harjeevan singh",
            "photoUrl": "//lh6.googleusercontent.com/-q9gltG_UHgg/AAAAAAAAAAI/AAAAAAAACbI/n81lqLQbCDU/s50-c-k-no/photo.jpg",
            "userId": "117183592944310875348"
          }
        }
      },
      "cell_type": "code",
      "source": [
        "df.isnull().sum()"
      ],
      "execution_count": 22,
      "outputs": [
        {
          "output_type": "execute_result",
          "data": {
            "text/plain": [
              "fixed.acidity           0\n",
              "volatile.acidity        0\n",
              "citric.acid             0\n",
              "residual.sugar          0\n",
              "chlorides               0\n",
              "free.sulfur.dioxide     0\n",
              "total.sulfur.dioxide    0\n",
              "density                 0\n",
              "pH                      0\n",
              "sulphates               0\n",
              "alcohol                 0\n",
              "quality                 0\n",
              "dtype: int64"
            ]
          },
          "metadata": {
            "tags": []
          },
          "execution_count": 22
        }
      ]
    },
    {
      "metadata": {
        "id": "n9jj6otl0inA",
        "colab_type": "text"
      },
      "cell_type": "markdown",
      "source": [
        "# Univariate Analysis\n",
        "Uni means one. Univariate means one variable analysis. The key pointers to the Univaraite analysis are to find out the outliers present in the data. We also tend to find the dsitribution of the data on the dataset which can further help us for the Bivaraite/Multivariate analysis.\n"
      ]
    },
    {
      "metadata": {
        "id": "9f3yVB8P0wZG",
        "colab_type": "text"
      },
      "cell_type": "markdown",
      "source": [
        "## Fixed.acidity  Count Plot"
      ]
    },
    {
      "metadata": {
        "id": "dHAf57_ezoks",
        "colab_type": "code",
        "colab": {
          "autoexec": {
            "startup": false,
            "wait_interval": 0
          },
          "base_uri": "https://localhost:8080/",
          "height": 265
        },
        "outputId": "4cf6182d-1ff1-44b7-d2f2-eea724f4106f",
        "executionInfo": {
          "status": "ok",
          "timestamp": 1528452128549,
          "user_tz": -330,
          "elapsed": 1143,
          "user": {
            "displayName": "harjeevan singh",
            "photoUrl": "//lh6.googleusercontent.com/-q9gltG_UHgg/AAAAAAAAAAI/AAAAAAAACbI/n81lqLQbCDU/s50-c-k-no/photo.jpg",
            "userId": "117183592944310875348"
          }
        }
      },
      "cell_type": "code",
      "source": [
        "plt.hist(x=\"fixed.acidity\",data=df,bins=30)\n",
        "sns.despine()"
      ],
      "execution_count": 31,
      "outputs": [
        {
          "output_type": "display_data",
          "data": {
            "image/png": "[encoded data removed]",
            "text/plain": [
              "<matplotlib.figure.Figure at 0x7f0a879d83c8>"
            ]
          },
          "metadata": {
            "tags": []
          }
        }
      ]
    },
    {
      "metadata": {
        "id": "h-5kXLso2SYp",
        "colab_type": "text"
      },
      "cell_type": "markdown",
      "source": [
        "From the above plot, we noticed that:\n",
        "1.   It is a normal distribution. \n",
        "2.   There are few outliers.\n",
        "3.   It is continuous.\n",
        "4.   It is bell shaped graph.\n",
        "5.   Most of the wines have acidity around 7."
      ]
    },
    {
      "metadata": {
        "id": "fcPJWJE_37tb",
        "colab_type": "text"
      },
      "cell_type": "markdown",
      "source": [
        "## Volatile.acidity Count Plot"
      ]
    },
    {
      "metadata": {
        "id": "OK0-ofYa4Wll",
        "colab_type": "code",
        "colab": {
          "autoexec": {
            "startup": false,
            "wait_interval": 0
          },
          "base_uri": "https://localhost:8080/",
          "height": 265
        },
        "outputId": "57344001-77a3-4b79-e181-9a7975729fcf",
        "executionInfo": {
          "status": "ok",
          "timestamp": 1528452769066,
          "user_tz": -330,
          "elapsed": 1147,
          "user": {
            "displayName": "harjeevan singh",
            "photoUrl": "//lh6.googleusercontent.com/-q9gltG_UHgg/AAAAAAAAAAI/AAAAAAAACbI/n81lqLQbCDU/s50-c-k-no/photo.jpg",
            "userId": "117183592944310875348"
          }
        }
      },
      "cell_type": "code",
      "source": [
        "plt.hist(x=\"volatile.acidity\",data=df,bins=30)\n",
        "sns.despine()"
      ],
      "execution_count": 34,
      "outputs": [
        {
          "output_type": "display_data",
          "data": {
            "image/png": "[encoded data removed]",
            "text/plain": [
              "<matplotlib.figure.Figure at 0x7f0a878c5c50>"
            ]
          },
          "metadata": {
            "tags": []
          }
        }
      ]
    },
    {
      "metadata": {
        "id": "zTaNNQUF4oti",
        "colab_type": "text"
      },
      "cell_type": "markdown",
      "source": [
        "From the above plot we can see that,\n",
        "1.  It is continuous.\n",
        "2.  The destribution is skewed.\n",
        "3.   Most of the wine has 0.25 volatile acidity.\n",
        "4.   The value of volatile acidity is less for most of the wines."
      ]
    },
    {
      "metadata": {
        "id": "RK0VK99r5fE2",
        "colab_type": "text"
      },
      "cell_type": "markdown",
      "source": [
        "## Citric.Acid Count Plot"
      ]
    },
    {
      "metadata": {
        "id": "5grijq458Yp7",
        "colab_type": "code",
        "colab": {
          "autoexec": {
            "startup": false,
            "wait_interval": 0
          },
          "base_uri": "https://localhost:8080/",
          "height": 279
        },
        "outputId": "7cd75a4e-780d-43ca-d6f7-953d204e3254",
        "executionInfo": {
          "status": "ok",
          "timestamp": 1528453773500,
          "user_tz": -330,
          "elapsed": 1010,
          "user": {
            "displayName": "harjeevan singh",
            "photoUrl": "//lh6.googleusercontent.com/-q9gltG_UHgg/AAAAAAAAAAI/AAAAAAAACbI/n81lqLQbCDU/s50-c-k-no/photo.jpg",
            "userId": "117183592944310875348"
          }
        }
      },
      "cell_type": "code",
      "source": [
        "sns.distplot(df[\"citric.acid\"])\n",
        "sns.despine()"
      ],
      "execution_count": 42,
      "outputs": [
        {
          "output_type": "display_data",
          "data": {
            "image/png": "[encoded data removed]",
            "text/plain": [
              "<matplotlib.figure.Figure at 0x7f0a87432588>"
            ]
          },
          "metadata": {
            "tags": []
          }
        }
      ]
    },
    {
      "metadata": {
        "id": "B97XQmHo51cs",
        "colab_type": "code",
        "colab": {
          "autoexec": {
            "startup": false,
            "wait_interval": 0
          },
          "base_uri": "https://localhost:8080/",
          "height": 316
        },
        "outputId": "83957a04-49d4-459c-e629-77bfd702d732",
        "executionInfo": {
          "status": "ok",
          "timestamp": 1528453688669,
          "user_tz": -330,
          "elapsed": 1158,
          "user": {
            "displayName": "harjeevan singh",
            "photoUrl": "//lh6.googleusercontent.com/-q9gltG_UHgg/AAAAAAAAAAI/AAAAAAAACbI/n81lqLQbCDU/s50-c-k-no/photo.jpg",
            "userId": "117183592944310875348"
          }
        }
      },
      "cell_type": "code",
      "source": [
        "sns.boxplot(df[\"citric.acid\"])\n",
        "sns.despine()"
      ],
      "execution_count": 41,
      "outputs": [
        {
          "output_type": "stream",
          "text": [
            "/usr/local/lib/python3.6/dist-packages/seaborn/categorical.py:454: FutureWarning: remove_na is deprecated and is a private function. Do not use.\n",
            "  box_data = remove_na(group_data)\n"
          ],
          "name": "stderr"
        },
        {
          "output_type": "display_data",
          "data": {
            "image/png": "[encoded data removed]",
            "text/plain": [
              "<matplotlib.figure.Figure at 0x7f0a8746c0f0>"
            ]
          },
          "metadata": {
            "tags": []
          }
        }
      ]
    },
    {
      "metadata": {
        "id": "-bnC7K476JY_",
        "colab_type": "text"
      },
      "cell_type": "markdown",
      "source": [
        "1. It is continuous.\n",
        "2. The skewness can be observed.\n",
        "3.  Most of the wines have citric acid ranging from 0.25 to 0.5.\n",
        "4.  There are many outliers."
      ]
    },
    {
      "metadata": {
        "id": "Fn7aSCbu6z18",
        "colab_type": "text"
      },
      "cell_type": "markdown",
      "source": [
        "## Residual.sugar Count Plot"
      ]
    },
    {
      "metadata": {
        "id": "bl_ZZHHH6t4V",
        "colab_type": "code",
        "colab": {
          "autoexec": {
            "startup": false,
            "wait_interval": 0
          },
          "base_uri": "https://localhost:8080/",
          "height": 279
        },
        "outputId": "9270cf60-1594-4c5f-da2f-91cdb6c1c9c1",
        "executionInfo": {
          "status": "ok",
          "timestamp": 1528453420764,
          "user_tz": -330,
          "elapsed": 1242,
          "user": {
            "displayName": "harjeevan singh",
            "photoUrl": "//lh6.googleusercontent.com/-q9gltG_UHgg/AAAAAAAAAAI/AAAAAAAACbI/n81lqLQbCDU/s50-c-k-no/photo.jpg",
            "userId": "117183592944310875348"
          }
        }
      },
      "cell_type": "code",
      "source": [
        "sns.distplot(df[\"residual.sugar\"])\n",
        "sns.despine()"
      ],
      "execution_count": 40,
      "outputs": [
        {
          "output_type": "display_data",
          "data": {
            "image/png": "[encoded data removed]",
            "text/plain": [
              "<matplotlib.figure.Figure at 0x7f0a8767b6d8>"
            ]
          },
          "metadata": {
            "tags": []
          }
        }
      ]
    },
    {
      "metadata": {
        "id": "swVEgwY-8f00",
        "colab_type": "code",
        "colab": {
          "autoexec": {
            "startup": false,
            "wait_interval": 0
          },
          "base_uri": "https://localhost:8080/",
          "height": 316
        },
        "outputId": "ae40e71c-773d-4dc1-c4fd-7ad7a3915c75",
        "executionInfo": {
          "status": "ok",
          "timestamp": 1528453807636,
          "user_tz": -330,
          "elapsed": 1136,
          "user": {
            "displayName": "harjeevan singh",
            "photoUrl": "//lh6.googleusercontent.com/-q9gltG_UHgg/AAAAAAAAAAI/AAAAAAAACbI/n81lqLQbCDU/s50-c-k-no/photo.jpg",
            "userId": "117183592944310875348"
          }
        }
      },
      "cell_type": "code",
      "source": [
        "sns.boxplot(df[\"residual.sugar\"])\n",
        "sns.despine()"
      ],
      "execution_count": 43,
      "outputs": [
        {
          "output_type": "stream",
          "text": [
            "/usr/local/lib/python3.6/dist-packages/seaborn/categorical.py:454: FutureWarning: remove_na is deprecated and is a private function. Do not use.\n",
            "  box_data = remove_na(group_data)\n"
          ],
          "name": "stderr"
        },
        {
          "output_type": "display_data",
          "data": {
            "image/png": "[encoded data removed]",
            "text/plain": [
              "<matplotlib.figure.Figure at 0x7f0a8736d748>"
            ]
          },
          "metadata": {
            "tags": []
          }
        }
      ]
    },
    {
      "metadata": {
        "id": "RWwwJeTh7Rps",
        "colab_type": "text"
      },
      "cell_type": "markdown",
      "source": [
        "It can be seen that,\n",
        "1.  The graph is skewed.\n",
        "2.  It is continuous.\n",
        "3.  Most of the wines have 0 to 10 units of residual sugar.\n",
        "4.  There are outliers."
      ]
    },
    {
      "metadata": {
        "id": "vLOMc1jR78Pu",
        "colab_type": "text"
      },
      "cell_type": "markdown",
      "source": [
        ""
      ]
    },
    {
      "metadata": {
        "id": "g464JnrZ8zS4",
        "colab_type": "text"
      },
      "cell_type": "markdown",
      "source": [
        "## Chloride- Count plot"
      ]
    },
    {
      "metadata": {
        "id": "vLR3q0Ju85jR",
        "colab_type": "code",
        "colab": {
          "autoexec": {
            "startup": false,
            "wait_interval": 0
          },
          "base_uri": "https://localhost:8080/",
          "height": 316
        },
        "outputId": "9103fb57-b857-4250-e230-60cc6b6b09f7",
        "executionInfo": {
          "status": "ok",
          "timestamp": 1528453927386,
          "user_tz": -330,
          "elapsed": 822,
          "user": {
            "displayName": "harjeevan singh",
            "photoUrl": "//lh6.googleusercontent.com/-q9gltG_UHgg/AAAAAAAAAAI/AAAAAAAACbI/n81lqLQbCDU/s50-c-k-no/photo.jpg",
            "userId": "117183592944310875348"
          }
        }
      },
      "cell_type": "code",
      "source": [
        "sns.boxplot(df[\"chlorides\"])\n",
        "sns.despine()"
      ],
      "execution_count": 45,
      "outputs": [
        {
          "output_type": "stream",
          "text": [
            "/usr/local/lib/python3.6/dist-packages/seaborn/categorical.py:454: FutureWarning: remove_na is deprecated and is a private function. Do not use.\n",
            "  box_data = remove_na(group_data)\n"
          ],
          "name": "stderr"
        },
        {
          "output_type": "display_data",
          "data": {
            "image/png": "[encoded data removed]",
            "text/plain": [
              "<matplotlib.figure.Figure at 0x7f0a872faa58>"
            ]
          },
          "metadata": {
            "tags": []
          }
        }
      ]
    },
    {
      "metadata": {
        "id": "HeQ27vwo9D7H",
        "colab_type": "text"
      },
      "cell_type": "markdown",
      "source": [
        "It is observered that ,\n",
        "1.  The graph is skewed.\n",
        "2.   It is Continuous.\n",
        "3.   It has many outliers.\n",
        "4.   0.05 is the amount of chlorides in most wines."
      ]
    },
    {
      "metadata": {
        "id": "1wBdwjGI9aqf",
        "colab_type": "text"
      },
      "cell_type": "markdown",
      "source": [
        "## Free.sulfur.dioxide - Count plot"
      ]
    },
    {
      "metadata": {
        "id": "RfytRRQM9jSr",
        "colab_type": "code",
        "colab": {
          "autoexec": {
            "startup": false,
            "wait_interval": 0
          },
          "base_uri": "https://localhost:8080/",
          "height": 279
        },
        "outputId": "0d82be9a-863a-4b44-cd8d-f98092f4d379",
        "executionInfo": {
          "status": "ok",
          "timestamp": 1528454138312,
          "user_tz": -330,
          "elapsed": 1020,
          "user": {
            "displayName": "harjeevan singh",
            "photoUrl": "//lh6.googleusercontent.com/-q9gltG_UHgg/AAAAAAAAAAI/AAAAAAAACbI/n81lqLQbCDU/s50-c-k-no/photo.jpg",
            "userId": "117183592944310875348"
          }
        }
      },
      "cell_type": "code",
      "source": [
        "sns.distplot(df[\"free.sulfur.dioxide\"])\n",
        "sns.despine()"
      ],
      "execution_count": 48,
      "outputs": [
        {
          "output_type": "display_data",
          "data": {
            "image/png": "[encoded data removed]",
            "text/plain": [
              "<matplotlib.figure.Figure at 0x7f0a8757bf60>"
            ]
          },
          "metadata": {
            "tags": []
          }
        }
      ]
    },
    {
      "metadata": {
        "id": "VDEx30tS96hf",
        "colab_type": "text"
      },
      "cell_type": "markdown",
      "source": [
        "It is seen that,\n",
        "1. It is continuous.\n",
        "2. The skewness can be observed.\n",
        "3.  Most of the wines have citric acid ranging from 0 to 50.\n",
        "4.  There are many outliers."
      ]
    },
    {
      "metadata": {
        "id": "uQzCdhYU-KOE",
        "colab_type": "text"
      },
      "cell_type": "markdown",
      "source": [
        "## Total.sulfur.dioxide - Count Plot"
      ]
    },
    {
      "metadata": {
        "id": "57y60KEk-U_r",
        "colab_type": "code",
        "colab": {
          "autoexec": {
            "startup": false,
            "wait_interval": 0
          },
          "base_uri": "https://localhost:8080/",
          "height": 265
        },
        "outputId": "a3f7b730-e3f3-4290-fa1b-f4b051d9b507",
        "executionInfo": {
          "status": "ok",
          "timestamp": 1528454317729,
          "user_tz": -330,
          "elapsed": 1259,
          "user": {
            "displayName": "harjeevan singh",
            "photoUrl": "//lh6.googleusercontent.com/-q9gltG_UHgg/AAAAAAAAAAI/AAAAAAAACbI/n81lqLQbCDU/s50-c-k-no/photo.jpg",
            "userId": "117183592944310875348"
          }
        }
      },
      "cell_type": "code",
      "source": [
        "plt.hist(df[\"total.sulfur.dioxide\"],bins=30)\n",
        "sns.despine()"
      ],
      "execution_count": 51,
      "outputs": [
        {
          "output_type": "display_data",
          "data": {
            "image/png": "[encoded data removed]",
            "text/plain": [
              "<matplotlib.figure.Figure at 0x7f0a8717b470>"
            ]
          },
          "metadata": {
            "tags": []
          }
        }
      ]
    },
    {
      "metadata": {
        "id": "JaoXlt7f-hhH",
        "colab_type": "text"
      },
      "cell_type": "markdown",
      "source": [
        "1.  There are large number of Outliers.\n",
        "2.  They are continuous in nature.\n",
        "3.  The distribution is skewed\n",
        "4.  There are 100-200 total sulfur dioxide in most of the wines. "
      ]
    },
    {
      "metadata": {
        "id": "4IeYUbnm_ATw",
        "colab_type": "text"
      },
      "cell_type": "markdown",
      "source": [
        "## Density - Count Plot"
      ]
    },
    {
      "metadata": {
        "id": "M1c8jkAq_I2Y",
        "colab_type": "code",
        "colab": {
          "autoexec": {
            "startup": false,
            "wait_interval": 0
          },
          "base_uri": "https://localhost:8080/",
          "height": 334
        },
        "outputId": "6374312c-c013-40c0-cf47-77ad4f9be4c5",
        "executionInfo": {
          "status": "ok",
          "timestamp": 1528454498627,
          "user_tz": -330,
          "elapsed": 1019,
          "user": {
            "displayName": "harjeevan singh",
            "photoUrl": "//lh6.googleusercontent.com/-q9gltG_UHgg/AAAAAAAAAAI/AAAAAAAACbI/n81lqLQbCDU/s50-c-k-no/photo.jpg",
            "userId": "117183592944310875348"
          }
        }
      },
      "cell_type": "code",
      "source": [
        "sns.boxplot(df[\"density\"])\n",
        "sns.despint"
      ],
      "execution_count": 52,
      "outputs": [
        {
          "output_type": "stream",
          "text": [
            "/usr/local/lib/python3.6/dist-packages/seaborn/categorical.py:454: FutureWarning: remove_na is deprecated and is a private function. Do not use.\n",
            "  box_data = remove_na(group_data)\n"
          ],
          "name": "stderr"
        },
        {
          "output_type": "execute_result",
          "data": {
            "text/plain": [
              "<matplotlib.axes._subplots.AxesSubplot at 0x7f0a870add68>"
            ]
          },
          "metadata": {
            "tags": []
          },
          "execution_count": 52
        },
        {
          "output_type": "display_data",
          "data": {
            "image/png": "[encoded data removed]",
            "text/plain": [
              "<matplotlib.figure.Figure at 0x7f0a870ad6a0>"
            ]
          },
          "metadata": {
            "tags": []
          }
        }
      ]
    }
  ]
}
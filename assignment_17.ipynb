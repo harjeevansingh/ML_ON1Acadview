{
  "nbformat": 4,
  "nbformat_minor": 0,
  "metadata": {
    "colab": {
      "name": "assignment_17.ipynb",
      "version": "0.3.2",
      "provenance": [],
      "include_colab_link": true
    },
    "kernelspec": {
      "name": "python3",
      "display_name": "Python 3"
    }
  },
  "cells": [
    {
      "cell_type": "markdown",
      "metadata": {
        "id": "view-in-github",
        "colab_type": "text"
      },
      "source": [
        "[View in Colaboratory](https://colab.research.google.com/github/harjeevansingh/ML_ON1Acadview/blob/master/assignment_17.ipynb)"
      ]
    },
    {
      "metadata": {
        "id": "ECEIw73G_su8",
        "colab_type": "code",
        "colab": {}
      },
      "cell_type": "code",
      "source": [
        "import pandas as pd\n",
        "from sklearn.datasets import load_digits\n",
        "from sklearn.preprocessing import StandardScaler\n",
        "from sklearn.model_selection import train_test_split"
      ],
      "execution_count": 0,
      "outputs": []
    },
    {
      "metadata": {
        "id": "kXCxq3z0_6uM",
        "colab_type": "code",
        "colab": {}
      },
      "cell_type": "code",
      "source": [
        "df=load_digits()\n",
        "x=df.data\n",
        "y=df.target\n",
        "scaler= StandardScaler()\n",
        "scaler.fit(x)\n",
        "x=scaler.transform(x)\n",
        "# (x_train,x_test,y_train,y_test)=train_test_split(x,y,test_size=0.3,random_state=4)\n"
      ],
      "execution_count": 0,
      "outputs": []
    },
    {
      "metadata": {
        "id": "IZTFRTPvCFgw",
        "colab_type": "code",
        "colab": {}
      },
      "cell_type": "code",
      "source": [
        "from sklearn.decomposition import PCA\n",
        "pca=PCA(n_components=0.95)\n",
        "prin_compo=pca.fit_transform(x)\n",
        "prin_df=pd.DataFrame(data=prin_compo)\n",
        "# final_df=pd.concat([prin_df,pd.DataFrame(y)],axis=1)\n",
        "\n",
        "(x_train,x_test,y_train,y_test)=train_test_split(prin_df,y,test_size=0.3,random_state=4)\n"
      ],
      "execution_count": 0,
      "outputs": []
    },
    {
      "metadata": {
        "id": "lVX-UUflD7-F",
        "colab_type": "code",
        "colab": {
          "base_uri": "https://localhost:8080/",
          "height": 91
        },
        "outputId": "beb88fab-09a1-42ee-fb85-b2562e41744a"
      },
      "cell_type": "code",
      "source": [
        "from sklearn.linear_model import LogisticRegression\n",
        "model=LogisticRegression()\n",
        "model.fit(x_train,y_train)"
      ],
      "execution_count": 72,
      "outputs": [
        {
          "output_type": "execute_result",
          "data": {
            "text/plain": [
              "LogisticRegression(C=1.0, class_weight=None, dual=False, fit_intercept=True,\n",
              "          intercept_scaling=1, max_iter=100, multi_class='ovr', n_jobs=1,\n",
              "          penalty='l2', random_state=None, solver='liblinear', tol=0.0001,\n",
              "          verbose=0, warm_start=False)"
            ]
          },
          "metadata": {
            "tags": []
          },
          "execution_count": 72
        }
      ]
    },
    {
      "metadata": {
        "id": "GxP_5llRMmkc",
        "colab_type": "code",
        "colab": {
          "base_uri": "https://localhost:8080/",
          "height": 36
        },
        "outputId": "8227ea7e-1705-4879-a987-37a2282f16f8"
      },
      "cell_type": "code",
      "source": [
        "model.score(x_test,y_test)"
      ],
      "execution_count": 73,
      "outputs": [
        {
          "output_type": "execute_result",
          "data": {
            "text/plain": [
              "0.9555555555555556"
            ]
          },
          "metadata": {
            "tags": []
          },
          "execution_count": 73
        }
      ]
    },
    {
      "metadata": {
        "id": "xbfRjwfaOm7D",
        "colab_type": "code",
        "colab": {}
      },
      "cell_type": "code",
      "source": [
        "pred=model.predict(x_test)"
      ],
      "execution_count": 0,
      "outputs": []
    },
    {
      "metadata": {
        "id": "UcV-szJeOXAj",
        "colab_type": "code",
        "colab": {}
      },
      "cell_type": "code",
      "source": [
        "from sklearn.metrics import confusion_matrix, classification_report"
      ],
      "execution_count": 0,
      "outputs": []
    },
    {
      "metadata": {
        "id": "hwJgcnRmPHO3",
        "colab_type": "text"
      },
      "cell_type": "markdown",
      "source": [
        "## Confusion Matrix"
      ]
    },
    {
      "metadata": {
        "id": "XqX-oVPVOkRO",
        "colab_type": "code",
        "colab": {
          "base_uri": "https://localhost:8080/",
          "height": 203
        },
        "outputId": "d531157e-2c86-4183-c7c7-fe97721b1fe6"
      },
      "cell_type": "code",
      "source": [
        "matrix=confusion_matrix(y_test, pred)\n",
        "print(matrix)"
      ],
      "execution_count": 76,
      "outputs": [
        {
          "output_type": "stream",
          "text": [
            "[[53  0  0  0  0  0  0  0  0  0]\n",
            " [ 0 49  1  1  0  0  0  0  0  0]\n",
            " [ 0  0 54  0  0  0  0  0  0  0]\n",
            " [ 0  0  0 52  0  0  0  0  1  2]\n",
            " [ 0  1  0  0 53  0  0  0  0  0]\n",
            " [ 0  0  0  0  0 55  0  0  0  3]\n",
            " [ 3  0  0  0  0  0 49  0  0  0]\n",
            " [ 0  0  0  0  0  0  0 55  0  0]\n",
            " [ 0  4  1  0  0  0  1  1 48  0]\n",
            " [ 0  1  0  1  0  1  0  0  2 48]]\n"
          ],
          "name": "stdout"
        }
      ]
    },
    {
      "metadata": {
        "id": "BfDk6zURPKdV",
        "colab_type": "text"
      },
      "cell_type": "markdown",
      "source": [
        "## Classification Report"
      ]
    },
    {
      "metadata": {
        "id": "9Ke-aQJ6PFrs",
        "colab_type": "code",
        "colab": {
          "base_uri": "https://localhost:8080/",
          "height": 296
        },
        "outputId": "c2d762b2-56b7-4d7e-92cd-e5faf4ea0a76"
      },
      "cell_type": "code",
      "source": [
        "report=classification_report(y_test,pred)\n",
        "print(report)"
      ],
      "execution_count": 77,
      "outputs": [
        {
          "output_type": "stream",
          "text": [
            "             precision    recall  f1-score   support\n",
            "\n",
            "          0       0.95      1.00      0.97        53\n",
            "          1       0.89      0.96      0.92        51\n",
            "          2       0.96      1.00      0.98        54\n",
            "          3       0.96      0.95      0.95        55\n",
            "          4       1.00      0.98      0.99        54\n",
            "          5       0.98      0.95      0.96        58\n",
            "          6       0.98      0.94      0.96        52\n",
            "          7       0.98      1.00      0.99        55\n",
            "          8       0.94      0.87      0.91        55\n",
            "          9       0.91      0.91      0.91        53\n",
            "\n",
            "avg / total       0.96      0.96      0.96       540\n",
            "\n"
          ],
          "name": "stdout"
        }
      ]
    }
  ]
}
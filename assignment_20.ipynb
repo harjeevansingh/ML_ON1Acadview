{
  "nbformat": 4,
  "nbformat_minor": 0,
  "metadata": {
    "colab": {
      "name": "assignment_20.ipynb",
      "version": "0.3.2",
      "provenance": [],
      "include_colab_link": true
    },
    "kernelspec": {
      "name": "python3",
      "display_name": "Python 3"
    }
  },
  "cells": [
    {
      "cell_type": "markdown",
      "metadata": {
        "id": "view-in-github",
        "colab_type": "text"
      },
      "source": [
        "[View in Colaboratory](https://colab.research.google.com/github/harjeevansingh/ML_ON1Acadview/blob/master/assignment_20.ipynb)"
      ]
    },
    {
      "metadata": {
        "id": "cWUtZA4B2C1m",
        "colab_type": "text"
      },
      "cell_type": "markdown",
      "source": [
        "## Question 1\n",
        "\n",
        "F = (b+c)(a-1)"
      ]
    },
    {
      "metadata": {
        "id": "xUXRyRNK2Dtc",
        "colab_type": "text"
      },
      "cell_type": "markdown",
      "source": [
        "## Question 2\n",
        "1.   x = (-0.162 + 21.5 + 0.0028)\n",
        "2.   x = 21.3408\n",
        "\n",
        "3.  f(x) = 0.999999999460727442636"
      ]
    },
    {
      "metadata": {
        "id": "8drVwLM63ogn",
        "colab_type": "text"
      },
      "cell_type": "markdown",
      "source": [
        "* If bias is -1.1\n",
        "\n",
        "1.  x = (-1.1 -0.162 + 21.5 + 0.0028)\n",
        "2.  x = 20.2408\n",
        "3.  f(x) = 0.9999999983799357072713\n",
        "\n",
        "\n",
        "* When we change the bias to -1.1, then the x changes to 20.2408 and the f(x) results as 0.9999999983799357072713 . And the difference b/w the previous and the later f(x) is 1.08079179e-9."
      ]
    },
    {
      "metadata": {
        "id": "ECjXtauv6Fkr",
        "colab_type": "text"
      },
      "cell_type": "markdown",
      "source": [
        "In simple words,  a bias value allows you to shift the activation function to the left or right. \n",
        "  That's useful, but what if you wanted the network to output 0 when x is 2?  You want to be able to shift the entire curve to the right.That's exactly what the bias allows you to do. If we add a bias to that network"
      ]
    }
  ]
}